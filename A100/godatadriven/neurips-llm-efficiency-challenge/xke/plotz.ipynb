{
 "cells": [
  {
   "cell_type": "code",
   "execution_count": null,
   "metadata": {},
   "outputs": [],
   "source": [
    "import mlflow\n",
    "import seaborn as sns\n",
    "import pandas as pd\n",
    "import matplotlib.pyplot as plt\n",
    "\n",
    "mlflow.set_tracking_uri('http://34.90.207.177:5000')\n",
    "\n",
    "RUN_ID = 'acf70a0372e449d0843db50821c67bfa'"
   ]
  },
  {
   "cell_type": "code",
   "execution_count": null,
   "metadata": {},
   "outputs": [],
   "source": [
    "client = mlflow.MlflowClient()"
   ]
  },
  {
   "cell_type": "code",
   "execution_count": null,
   "metadata": {},
   "outputs": [],
   "source": [
    "runs = client.search_runs(['1'])"
   ]
  },
  {
   "cell_type": "code",
   "execution_count": null,
   "metadata": {},
   "outputs": [],
   "source": [
    "rids = [r.info.run_id for r in runs]"
   ]
  },
  {
   "cell_type": "code",
   "execution_count": null,
   "metadata": {},
   "outputs": [],
   "source": []
  },
  {
   "cell_type": "code",
   "execution_count": null,
   "metadata": {},
   "outputs": [],
   "source": [
    "metrics = {}\n",
    "\n",
    "for rid in rids:\n",
    "    eval = [(m.step, m.value) for m in client.get_metric_history(rid, 'eval_loss')]\n",
    "    train = [(m.step, m.value) for m in client.get_metric_history(rid, 'loss')]\n",
    "    dftr = pd.DataFrame(train, columns=['step', 'loss']).assign(split=\"train\")\n",
    "    dfte = pd.DataFrame(eval, columns=['step', 'loss']).assign(split=\"eval\")\n",
    "    all = pd.concat([dftr, dfte])\n",
    "    all[\"rid\"] = rid\n",
    "    metrics[rid] = all"
   ]
  },
  {
   "cell_type": "code",
   "execution_count": null,
   "metadata": {},
   "outputs": [],
   "source": [
    "metrics\n",
    "#metrics = pd.concat(metrics.values())"
   ]
  },
  {
   "cell_type": "code",
   "execution_count": null,
   "metadata": {},
   "outputs": [],
   "source": [
    "df_metric = pd.concat(metrics.values())\n",
    "\n",
    "df_metric.loc[lambda df: df[\"split\"] == \"eval\"].sort_values('loss')"
   ]
  },
  {
   "cell_type": "code",
   "execution_count": null,
   "metadata": {},
   "outputs": [],
   "source": [
    "fig, ax = plt.subplots(figsize=(12, 5))\n",
    "\n",
    "for rid, df in metrics.items():\n",
    "    if rid == 'acf70a0372e449d0843db50821c67bfa':\n",
    "        c = 'red'\n",
    "        alpha = 1\n",
    "    else:\n",
    "        c = 'grey'\n",
    "        alpha = 0.5\n",
    "    sns.lineplot(x=\"step\", y=\"loss\", data=df.loc[lambda df: df[\"split\"] == \"eval\"], ax=ax, color=c, alpha=alpha)"
   ]
  },
  {
   "cell_type": "code",
   "execution_count": null,
   "metadata": {},
   "outputs": [],
   "source": [
    "fig, ax = plt.subplots(figsize=(12, 5))\n",
    "ax = sns.lineplot(x=\"step\", y=\"loss\", hue=\"split\", data=all, ax=ax)\n",
    "ax.set_title(\"Train / eval loss\")"
   ]
  },
  {
   "cell_type": "code",
   "execution_count": null,
   "metadata": {},
   "outputs": [],
   "source": [
    "run = mlflow.get_run()"
   ]
  },
  {
   "cell_type": "code",
   "execution_count": null,
   "metadata": {},
   "outputs": [],
   "source": [
    "run.data.metrics"
   ]
  },
  {
   "cell_type": "code",
   "execution_count": null,
   "metadata": {},
   "outputs": [],
   "source": []
  }
 ],
 "metadata": {
  "language_info": {
   "name": "python"
  }
 },
 "nbformat": 4,
 "nbformat_minor": 2
}

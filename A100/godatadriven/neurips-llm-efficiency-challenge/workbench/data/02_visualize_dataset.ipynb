{
 "cells": [
  {
   "cell_type": "code",
   "execution_count": null,
   "metadata": {},
   "outputs": [],
   "source": [
    "!pip install hdbscan seaborn"
   ]
  },
  {
   "cell_type": "code",
   "execution_count": null,
   "metadata": {},
   "outputs": [],
   "source": [
    "import pandas as pd\n",
    "import seaborn as sns\n",
    "from sentence_transformers import SentenceTransformer"
   ]
  },
  {
   "attachments": {},
   "cell_type": "markdown",
   "metadata": {},
   "source": [
    "https://developers.generativeai.google/examples/clustering_with_embeddings"
   ]
  },
  {
   "cell_type": "code",
   "execution_count": null,
   "metadata": {},
   "outputs": [],
   "source": [
    "device = \"mps\"\n",
    "\n",
    "model = SentenceTransformer('all-MiniLM-L6-v2', device=device)"
   ]
  },
  {
   "cell_type": "code",
   "execution_count": null,
   "metadata": {},
   "outputs": [],
   "source": [
    "df_data = pd.read_json(\"../../data/sft_train_shuffled_reduced.jsonl\", lines=True)"
   ]
  },
  {
   "cell_type": "code",
   "execution_count": null,
   "metadata": {},
   "outputs": [],
   "source": [
    "df_data[\"combined_instruction\"] = (df_data[\"instruction\"] + ' ' + df_data[\"input\"]).str.rstrip()"
   ]
  },
  {
   "cell_type": "code",
   "execution_count": null,
   "metadata": {},
   "outputs": [],
   "source": [
    "concatenated_instructions = df_data[\"combined_instruction\"].tolist()"
   ]
  },
  {
   "cell_type": "code",
   "execution_count": null,
   "metadata": {},
   "outputs": [],
   "source": [
    "instruction_embeddings = model.encode(concatenated_instructions)"
   ]
  },
  {
   "cell_type": "code",
   "execution_count": null,
   "metadata": {},
   "outputs": [],
   "source": [
    "N = instruction_embeddings.shape[0]"
   ]
  },
  {
   "cell_type": "code",
   "execution_count": null,
   "metadata": {},
   "outputs": [],
   "source": [
    "from sklearn.manifold import TSNE\n",
    "\n",
    "tsne = TSNE(random_state=98424, n_iter=10000, metric=\"cosine\", perplexity=int(N ** (1/2)))"
   ]
  },
  {
   "cell_type": "code",
   "execution_count": null,
   "metadata": {},
   "outputs": [],
   "source": [
    "embeddings_tsne = tsne.fit_transform(instruction_embeddings)"
   ]
  },
  {
   "cell_type": "code",
   "execution_count": null,
   "metadata": {},
   "outputs": [],
   "source": [
    "from sklearn.cluster import AgglomerativeClustering\n",
    "\n",
    "model = AgglomerativeClustering(n_clusters=4, metric=\"cosine\")\n",
    "\n",
    "labels = model.fit_predict(instruction_embeddings)"
   ]
  },
  {
   "cell_type": "code",
   "execution_count": null,
   "metadata": {},
   "outputs": [],
   "source": [
    "labels.max()"
   ]
  },
  {
   "cell_type": "code",
   "execution_count": null,
   "metadata": {},
   "outputs": [],
   "source": [
    "# from sklearn.cluster import KMeans\n",
    "# from sklearn.metrics import silhouette_score\n",
    "\n",
    "# sil_score_max = -1 #this is the minimum possible score\n",
    "\n",
    "# for n_clusters in range(2,10):\n",
    "#   model = KMeans(n_clusters = n_clusters, init='k-means++', max_iter=100, n_init=1)\n",
    "#   labels = model.fit_predict(instruction_embeddings)\n",
    "#   sil_score = silhouette_score(instruction_embeddings, labels)\n",
    "#   print(\"The average silhouette score for %i clusters is %0.2f\" %(n_clusters,sil_score))\n",
    "#   if sil_score > sil_score_max:\n",
    "#     sil_score_max = sil_score\n",
    "#     best_n_clusters = n_clusters"
   ]
  },
  {
   "cell_type": "code",
   "execution_count": null,
   "metadata": {},
   "outputs": [],
   "source": [
    "from sklearn.cluster import KMeans\n",
    "\n",
    "kmeans_model = KMeans(n_clusters=4, random_state=1, n_init='auto').fit(embeddings_tsne)\n",
    "labels = kmeans_model.fit_predict(instruction_embeddings)"
   ]
  },
  {
   "cell_type": "code",
   "execution_count": null,
   "metadata": {},
   "outputs": [],
   "source": [
    "df_tsne = pd.DataFrame(embeddings_tsne, columns=['x', 'y'])\n",
    "df_tsne[\"label\"] = labels"
   ]
  },
  {
   "cell_type": "code",
   "execution_count": null,
   "metadata": {},
   "outputs": [],
   "source": [
    "df_tsne[\"label_int\"] = pd.factorize(df_data[\"dataset\"])[0]"
   ]
  },
  {
   "cell_type": "code",
   "execution_count": null,
   "metadata": {},
   "outputs": [],
   "source": [
    "import seaborn as sns\n",
    "import matplotlib.pyplot as plt\n",
    "\n",
    "FS = (20, 16)\n",
    "fig, ax = plt.subplots(figsize=FS)\n",
    "sns.scatterplot(data=df_tsne, x='x', y='y', hue='label', palette='tab10', alpha=0.2)\n",
    "sns.move_legend(ax, \"upper left\", bbox_to_anchor=(1, 1))\n",
    "ax.text(55, 25, \"Logical reasoning\", fontsize=20, fontweight='bold')\n",
    "ax.text(-130, -25, \"Math (numerical reasoning)\", fontsize=20, fontweight='bold')\n",
    "ax.text(-30, 0, \"General knowledge\", fontsize=20, fontweight='bold')\n",
    "ax.text(10, 60, \"Science\", fontsize=20, fontweight='bold')\n",
    "plt.axis('off')\n",
    "plt.show()"
   ]
  },
  {
   "cell_type": "code",
   "execution_count": null,
   "metadata": {},
   "outputs": [],
   "source": [
    "df_data[\"label\"] = labels\n",
    "\n",
    "df_data.assign(x= embeddings_tsne[:,0], y = embeddings_tsne[:,1]).loc[lambda df: df[\"label\"] == 3].value_counts(\"dataset\")#.loc[lambda df: df[\"y\"] < -120]#.loc[lambda df: df[\"x\"] > 40].head(20)"
   ]
  },
  {
   "cell_type": "code",
   "execution_count": null,
   "metadata": {},
   "outputs": [],
   "source": []
  },
  {
   "cell_type": "code",
   "execution_count": null,
   "metadata": {},
   "outputs": [],
   "source": [
    "embeddings_tsne_df = pd.DataFrame(embeddings_tsne, columns=[\"x\", \"y\"])\n",
    "\n",
    "idx = embeddings_tsne_df.loc[lambda df: (df[\"x\"] > -10) & (df[\"x\"] < 10) & (df[\"y\"] < 65)].index\n",
    "\n",
    "idx = embeddings_tsne_df.loc[lambda df: (df[\"x\"] > 52) & (df[\"y\"] < 37.5)].index"
   ]
  },
  {
   "cell_type": "code",
   "execution_count": null,
   "metadata": {},
   "outputs": [],
   "source": [
    "df_data.loc[idx]"
   ]
  },
  {
   "cell_type": "code",
   "execution_count": null,
   "metadata": {},
   "outputs": [],
   "source": []
  }
 ],
 "metadata": {
  "language_info": {
   "name": "python"
  }
 },
 "nbformat": 4,
 "nbformat_minor": 2
}

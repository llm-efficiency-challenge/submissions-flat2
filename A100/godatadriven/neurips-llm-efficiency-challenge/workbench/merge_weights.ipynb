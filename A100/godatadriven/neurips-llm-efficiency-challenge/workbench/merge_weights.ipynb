{
 "cells": [
  {
   "cell_type": "code",
   "execution_count": null,
   "metadata": {},
   "outputs": [],
   "source": [
    "from cajajejo.model.inference.predictor import NeuripsPredictor\n",
    "from cajajejo.config import InferenceConfig\n",
    "from cajajejo.utils import load_config\n",
    "\n",
    "import os\n",
    "\n",
    "CONF = '/home/user/neurips-llm-efficiency-challenge/jobs/evaluation/mistral_ft_A100_inference.job_config.yml'\n",
    "\n",
    "adapter_location = '/home/user/neurips-llm-efficiency-challenge/.tmp/17862aa947d44423b2dbb052ed09a795/final_model'\n",
    "\n",
    "conf = load_config(CONF, InferenceConfig)"
   ]
  },
  {
   "cell_type": "code",
   "execution_count": null,
   "metadata": {},
   "outputs": [],
   "source": [
    "conf.mlflow_artifact_config"
   ]
  },
  {
   "cell_type": "code",
   "execution_count": null,
   "metadata": {},
   "outputs": [],
   "source": [
    "os.environ['MLFLOW_TRACKING_URI'] = conf.mlflow_artifact_config.mlflow_tracking_uri"
   ]
  },
  {
   "cell_type": "code",
   "execution_count": null,
   "metadata": {},
   "outputs": [],
   "source": [
    "!mlflow artifacts download -r 1c34595f2ffa4cd5bdc9e98c1d206dda -a final_model -d ../.tmp/1c34595f2ffa4cd5bdc9e98c1d206dda"
   ]
  },
  {
   "cell_type": "code",
   "execution_count": null,
   "metadata": {},
   "outputs": [],
   "source": [
    "p = NeuripsPredictor.from_config('/home/user/neurips-llm-efficiency-challenge/jobs/evaluation/mistral_ft_A100_inference.job_config.yml')"
   ]
  },
  {
   "cell_type": "code",
   "execution_count": null,
   "metadata": {},
   "outputs": [],
   "source": [
    "m = p.get_trained_lora_model(adapter_path=adapter_location)"
   ]
  },
  {
   "cell_type": "code",
   "execution_count": null,
   "metadata": {},
   "outputs": [],
   "source": [
    "run_id = conf.mlflow_artifact_config.run_id"
   ]
  },
  {
   "cell_type": "code",
   "execution_count": null,
   "metadata": {},
   "outputs": [],
   "source": [
    "run_id"
   ]
  },
  {
   "cell_type": "code",
   "execution_count": null,
   "metadata": {},
   "outputs": [],
   "source": [
    "conf.mlflow_artifact_config.download_directory"
   ]
  },
  {
   "cell_type": "code",
   "execution_count": null,
   "metadata": {},
   "outputs": [],
   "source": [
    "m.save_pretrained(f'{run_id}/mistral7b-ft/merged_model')"
   ]
  },
  {
   "cell_type": "code",
   "execution_count": null,
   "metadata": {},
   "outputs": [],
   "source": [
    "tokenizer = p.get_tokenizer()"
   ]
  },
  {
   "cell_type": "code",
   "execution_count": null,
   "metadata": {},
   "outputs": [],
   "source": [
    "tokenizer.save_pretrained(f'{run_id}/mistral7b-ft/merged_model')"
   ]
  },
  {
   "cell_type": "code",
   "execution_count": null,
   "metadata": {},
   "outputs": [],
   "source": [
    "!gsutil -m cp -r /home/user/neurips-llm-efficiency-challenge/workbench/{run_id} gs://submission-neurips-2023"
   ]
  },
  {
   "cell_type": "code",
   "execution_count": null,
   "metadata": {},
   "outputs": [],
   "source": []
  }
 ],
 "metadata": {
  "language_info": {
   "name": "python"
  }
 },
 "nbformat": 4,
 "nbformat_minor": 2
}

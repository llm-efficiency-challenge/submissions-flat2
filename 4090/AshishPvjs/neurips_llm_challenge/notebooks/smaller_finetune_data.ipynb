{
 "cells": [
  {
   "cell_type": "code",
   "execution_count": 1,
   "id": "568e5edd",
   "metadata": {},
   "outputs": [],
   "source": [
    "from datasets import load_dataset\n",
    "import pandas as pd\n",
    "from feature.selector import Selective, SelectionMethod\n",
    "from textwiser import TextWiser, Embedding, Transformation\n",
    "import datasets"
   ]
  },
  {
   "cell_type": "code",
   "execution_count": 20,
   "id": "68e96d14",
   "metadata": {},
   "outputs": [],
   "source": [
    "dataset = load_dataset(\"takojunior/llama_2_finetune\")"
   ]
  },
  {
   "cell_type": "code",
   "execution_count": 21,
   "id": "8016ca22",
   "metadata": {},
   "outputs": [
    {
     "data": {
      "text/plain": [
       "DatasetDict({\n",
       "    train: Dataset({\n",
       "        features: ['instruction', 'input', 'output'],\n",
       "        num_rows: 600210\n",
       "    })\n",
       "    validation: Dataset({\n",
       "        features: ['instruction', 'input', 'output'],\n",
       "        num_rows: 200\n",
       "    })\n",
       "})"
      ]
     },
     "execution_count": 21,
     "metadata": {},
     "output_type": "execute_result"
    }
   ],
   "source": [
    "dataset"
   ]
  },
  {
   "cell_type": "code",
   "execution_count": 14,
   "id": "a9c65c7b",
   "metadata": {},
   "outputs": [],
   "source": [
    "df = dataset.to_pandas()\n"
   ]
  },
  {
   "cell_type": "code",
   "execution_count": 16,
   "id": "3510ebde",
   "metadata": {},
   "outputs": [
    {
     "data": {
      "text/html": [
       "<div>\n",
       "<style scoped>\n",
       "    .dataframe tbody tr th:only-of-type {\n",
       "        vertical-align: middle;\n",
       "    }\n",
       "\n",
       "    .dataframe tbody tr th {\n",
       "        vertical-align: top;\n",
       "    }\n",
       "\n",
       "    .dataframe thead th {\n",
       "        text-align: right;\n",
       "    }\n",
       "</style>\n",
       "<table border=\"1\" class=\"dataframe\">\n",
       "  <thead>\n",
       "    <tr style=\"text-align: right;\">\n",
       "      <th></th>\n",
       "      <th>instruction</th>\n",
       "      <th>input</th>\n",
       "      <th>output</th>\n",
       "    </tr>\n",
       "  </thead>\n",
       "  <tbody>\n",
       "    <tr>\n",
       "      <th>0</th>\n",
       "      <td>When did Virgin Australia start operating?</td>\n",
       "      <td>Virgin Australia, the trading name of Virgin A...</td>\n",
       "      <td>Virgin Australia commenced services on 31 Augu...</td>\n",
       "    </tr>\n",
       "    <tr>\n",
       "      <th>1</th>\n",
       "      <td>Which is a species of fish? Tope or Rope</td>\n",
       "      <td></td>\n",
       "      <td>Tope</td>\n",
       "    </tr>\n",
       "    <tr>\n",
       "      <th>2</th>\n",
       "      <td>Why can camels survive for long without water?</td>\n",
       "      <td></td>\n",
       "      <td>Camels use the fat in their humps to keep them...</td>\n",
       "    </tr>\n",
       "    <tr>\n",
       "      <th>3</th>\n",
       "      <td>Alice's parents have three daughters: Amy, Jes...</td>\n",
       "      <td></td>\n",
       "      <td>The name of the third daughter is Alice</td>\n",
       "    </tr>\n",
       "    <tr>\n",
       "      <th>4</th>\n",
       "      <td>When was Tomoaki Komorida born?</td>\n",
       "      <td>Komorida was born in Kumamoto Prefecture on Ju...</td>\n",
       "      <td>Tomoaki Komorida was born on July 10,1981.</td>\n",
       "    </tr>\n",
       "  </tbody>\n",
       "</table>\n",
       "</div>"
      ],
      "text/plain": [
       "                                         instruction  \\\n",
       "0         When did Virgin Australia start operating?   \n",
       "1           Which is a species of fish? Tope or Rope   \n",
       "2     Why can camels survive for long without water?   \n",
       "3  Alice's parents have three daughters: Amy, Jes...   \n",
       "4                    When was Tomoaki Komorida born?   \n",
       "\n",
       "                                               input  \\\n",
       "0  Virgin Australia, the trading name of Virgin A...   \n",
       "1                                                      \n",
       "2                                                      \n",
       "3                                                      \n",
       "4  Komorida was born in Kumamoto Prefecture on Ju...   \n",
       "\n",
       "                                              output  \n",
       "0  Virgin Australia commenced services on 31 Augu...  \n",
       "1                                               Tope  \n",
       "2  Camels use the fat in their humps to keep them...  \n",
       "3            The name of the third daughter is Alice  \n",
       "4         Tomoaki Komorida was born on July 10,1981.  "
      ]
     },
     "execution_count": 16,
     "metadata": {},
     "output_type": "execute_result"
    }
   ],
   "source": [
    "df.fillna(\"\", inplace=True)\n",
    "df.head()"
   ]
  },
  {
   "cell_type": "code",
   "execution_count": 17,
   "id": "7086119a",
   "metadata": {},
   "outputs": [],
   "source": [
    "json_records = df.to_json(orient ='records', indent=2) \n",
    "parsed = json.loads(json_records)"
   ]
  },
  {
   "cell_type": "code",
   "execution_count": 22,
   "id": "40226521",
   "metadata": {},
   "outputs": [
    {
     "data": {
      "text/plain": [
       "[{'instruction': 'When did Virgin Australia start operating?',\n",
       "  'input': \"Virgin Australia, the trading name of Virgin Australia Airlines Pty Ltd, is an Australian-based airline. It is the largest airline by fleet size to use the Virgin brand. It commenced services on 31 August 2000 as Virgin Blue, with two aircraft on a single route. It suddenly found itself as a major airline in Australia's domestic market after the collapse of Ansett Australia in September 2001. The airline has since grown to directly serve 32 cities in Australia, from hubs in Brisbane, Melbourne and Sydney.\",\n",
       "  'output': 'Virgin Australia commenced services on 31 August 2000 as Virgin Blue, with two aircraft on a single route.'},\n",
       " {'instruction': 'Which is a species of fish? Tope or Rope',\n",
       "  'input': '',\n",
       "  'output': 'Tope'},\n",
       " {'instruction': 'Why can camels survive for long without water?',\n",
       "  'input': '',\n",
       "  'output': 'Camels use the fat in their humps to keep them filled with energy and hydration for long periods of time.'},\n",
       " {'instruction': \"Alice's parents have three daughters: Amy, Jessy, and what’s the name of the third daughter?\",\n",
       "  'input': '',\n",
       "  'output': 'The name of the third daughter is Alice'},\n",
       " {'instruction': 'When was Tomoaki Komorida born?',\n",
       "  'input': 'Komorida was born in Kumamoto Prefecture on July 10, 1981. After graduating from high school, he joined the J1 League club Avispa Fukuoka in 2000. Although he debuted as a midfielder in 2001, he did not play much and the club was relegated to the J2 League at the end of the 2001 season. In 2002, he moved to the J2 club Oita Trinita. He became a regular player as a defensive midfielder and the club won the championship in 2002 and was promoted in 2003. He played many matches until 2005. In September 2005, he moved to the J2 club Montedio Yamagata. In 2006, he moved to the J2 club Vissel Kobe. Although he became a regular player as a defensive midfielder, his gradually was played less during the summer. In 2007, he moved to the Japan Football League club Rosso Kumamoto (later Roasso Kumamoto) based in his local region. He played as a regular player and the club was promoted to J2 in 2008. Although he did not play as much, he still played in many matches. In 2010, he moved to Indonesia and joined Persela Lamongan. In July 2010, he returned to Japan and joined the J2 club Giravanz Kitakyushu. He played often as a defensive midfielder and center back until 2012 when he retired.',\n",
       "  'output': 'Tomoaki Komorida was born on July 10,1981.'},\n",
       " {'instruction': 'If I have more pieces at the time of stalemate, have I won?',\n",
       "  'input': 'Stalemate is a situation in chess where the player whose turn it is to move is not in check and has no legal move. Stalemate results in a draw. During the endgame, stalemate is a resource that can enable the player with the inferior position to draw the game rather than lose. In more complex positions, stalemate is much rarer, usually taking the form of a swindle that succeeds only if the superior side is inattentive.[citation needed] Stalemate is also a common theme in endgame studies and other chess problems.\\n\\nThe outcome of a stalemate was standardized as a draw in the 19th century. Before this standardization, its treatment varied widely, including being deemed a win for the stalemating player, a half-win for that player, or a loss for that player; not being permitted; and resulting in the stalemated player missing a turn. Stalemate rules vary in other games of the chess family.',\n",
       "  'output': \"No. \\nStalemate is a drawn position. It doesn't matter who has captured more pieces or is in a winning position\"},\n",
       " {'instruction': 'Given a reference text about Lollapalooza, where does it take place, who started it and what is it?',\n",
       "  'input': \"Lollapalooza /ˌlɒləpəˈluːzə/ (Lolla) is an annual American four-day music festival held in Grant Park in Chicago. It originally started as a touring event in 1991, but several years later, Chicago became its permanent location. Music genres include but are not limited to alternative rock, heavy metal, punk rock, hip hop, and electronic dance music. Lollapalooza has also featured visual arts, nonprofit organizations, and political organizations. The festival, held in Grant Park, hosts an estimated 400,000 people each July and sells out annually. Lollapalooza is one of the largest and most iconic music festivals in the world and one of the longest-running in the United States.\\n\\nLollapalooza was conceived and created in 1991 as a farewell tour by Perry Farrell, singer of the group Jane's Addiction.\",\n",
       "  'output': \"Lollapalooze is an annual musical festival held in Grant Park in Chicago, Illinois. It was started in 1991 as a farewell tour by Perry Farrell, singe of the group Jane's Addiction. The festival includes an array of musical genres including alternative rock, heavy metal, punk rock, hip hop, and electronic dance music. The festivals welcomes an estimated 400,000 people each year and sells out annually. Some notable headliners include: the Red Hot Chili Peppers, Chance the Rapper, Metallica, and Lady Gage. Lollapalooza is one of the largest and most iconic festivals in the world and a staple of Chicago.\"},\n",
       " {'instruction': 'Who gave the UN the land in NY to build their HQ',\n",
       "  'input': '',\n",
       "  'output': 'John D Rockerfeller'},\n",
       " {'instruction': 'Why mobile is bad for human',\n",
       "  'input': '',\n",
       "  'output': 'We are always engaged one phone which is not good.'},\n",
       " {'instruction': 'Who was John Moses Browning?',\n",
       "  'input': \"John Moses Browning (January 23, 1855 – November 26, 1926) was an American firearm designer who developed many varieties of military and civilian firearms, cartridges, and gun mechanisms – many of which are still in use around the world. He made his first firearm at age 13 in his father's gun shop and was awarded the first of his 128 firearm patents on October 7, 1879, at the age of 24. He is regarded as one of the most successful firearms designers of the 19th and 20th centuries and pioneered the development of modern repeating, semi-automatic, and automatic firearms.\\n\\nBrowning influenced nearly all categories of firearms design, especially the autoloading of ammunition. He invented, or made significant improvements to, single-shot, lever-action, and pump-action rifles and shotguns. He developed the first reliable and compact autoloading pistols by inventing the telescoping bolt, then integrating the bolt and barrel shroud into what is known as the pistol slide. Browning's telescoping bolt design is now found on nearly every modern semi-automatic pistol, as well as several modern fully automatic weapons. He also developed the first gas-operated firearm, the Colt–Browning Model 1895 machine gun – a system that surpassed mechanical recoil operation to become the standard for most high-power self-loading firearm designs worldwide. He also made significant contributions to automatic cannon development.\\n\\nBrowning's most successful designs include the M1911 pistol, the water-cooled M1917, the air-cooled M1919, and heavy M2 machine guns, the M1918 Browning Automatic Rifle, and the Browning Auto-5 – the first semi-automatic shotgun. Some of these arms are still manufactured, often with only minor changes in detail and cosmetics to those assembled by Browning or his licensees. The Browning-designed M1911 and Hi-Power are some of the most copied firearms in the world.\",\n",
       "  'output': \"John Moses Browning is one of the most well-known designer of modern firearms.  He started building firearms in his father's shop at the age of 13, and was awarded his first patent when he was 24.\\n\\nHe  designed the first reliable automatic pistol, and the first gas-operated firearm, as well inventing or improving single-shot, lever-action, and pump-action rifles and shotguns.\\n\\nToday, he is most well-known for the M1911 pistol, the Browning Automatic Rifle, and the Auto-5 shotgun, all of which are in still in current production in either their original design, or with minor changes.  His M1911 and Hi-Power pistols designs are some of the most reproduced firearms in the world today.\"}]"
      ]
     },
     "execution_count": 22,
     "metadata": {},
     "output_type": "execute_result"
    }
   ],
   "source": [
    "parsed[0:10]"
   ]
  },
  {
   "cell_type": "code",
   "execution_count": 28,
   "id": "d2338139",
   "metadata": {},
   "outputs": [
    {
     "data": {
      "text/plain": [
       "300105"
      ]
     },
     "execution_count": 28,
     "metadata": {},
     "output_type": "execute_result"
    }
   ],
   "source": [
    "len(df)"
   ]
  },
  {
   "cell_type": "code",
   "execution_count": 26,
   "id": "d89a34df",
   "metadata": {},
   "outputs": [],
   "source": [
    "args={}\n",
    "args['selection_percentage'] = 0.05"
   ]
  },
  {
   "cell_type": "code",
   "execution_count": 27,
   "id": "4080d724",
   "metadata": {},
   "outputs": [],
   "source": [
    "def get_selected_data(df, args, text_column=\"text\", label_column=\"category\"):\n",
    "    num_rows = len(df)\n",
    "    df[text_column] = df[\"instruction\"] + \" \" + df[\"input\"] + \" \" + df[\"output\"]\n",
    "    df_T = df.loc[:, text_column].to_frame().T\n",
    "    \n",
    "    labels = pd.get_dummies(df[label_column], dtype=int)\n",
    "    labels.columns = [\"label_\" + str(i) for i in range(1, len(labels.columns)+1)] \n",
    "    labels_T = labels.T\n",
    "    \n",
    "    # TextWiser featurization method to create text embeddings\n",
    "    textwiser = TextWiser(Embedding.TfIdf(), Transformation.NMF(n_components=20))\n",
    "\n",
    "    # Text-based selection\n",
    "    # The goal is to select a subset of articles \n",
    "    # that is most diverse in the text embedding space of articles\n",
    "    # and covers the most labels in each topic\n",
    "    selector = Selective(SelectionMethod.TextBased(num_features=round(num_rows*args[\"selection_percentage\"]), \n",
    "                                                   featurization_method=textwiser,\n",
    "                                                   optimization_method='kmeans'))\n",
    "\n",
    "    # Feature reduction\n",
    "    subset = selector.fit_transform(df_T, labels_T)\n",
    "    \n",
    "    return df.loc[subset.columns, [\"instruction\", \"input\", \"output\"]]"
   ]
  },
  {
   "cell_type": "code",
   "execution_count": 29,
   "id": "f57c92f9",
   "metadata": {},
   "outputs": [
    {
     "data": {
      "text/html": [
       "<div>\n",
       "<style scoped>\n",
       "    .dataframe tbody tr th:only-of-type {\n",
       "        vertical-align: middle;\n",
       "    }\n",
       "\n",
       "    .dataframe tbody tr th {\n",
       "        vertical-align: top;\n",
       "    }\n",
       "\n",
       "    .dataframe thead th {\n",
       "        text-align: right;\n",
       "    }\n",
       "</style>\n",
       "<table border=\"1\" class=\"dataframe\">\n",
       "  <thead>\n",
       "    <tr style=\"text-align: right;\">\n",
       "      <th></th>\n",
       "      <th>instruction</th>\n",
       "      <th>input</th>\n",
       "      <th>output</th>\n",
       "      <th>task_name</th>\n",
       "    </tr>\n",
       "  </thead>\n",
       "  <tbody>\n",
       "    <tr>\n",
       "      <th>0</th>\n",
       "      <td>When did Virgin Australia start operating?</td>\n",
       "      <td>Virgin Australia, the trading name of Virgin A...</td>\n",
       "      <td>Virgin Australia commenced services on 31 Augu...</td>\n",
       "      <td>dummy_task</td>\n",
       "    </tr>\n",
       "    <tr>\n",
       "      <th>1</th>\n",
       "      <td>Which is a species of fish? Tope or Rope</td>\n",
       "      <td></td>\n",
       "      <td>Tope</td>\n",
       "      <td>dummy_task</td>\n",
       "    </tr>\n",
       "    <tr>\n",
       "      <th>2</th>\n",
       "      <td>Why can camels survive for long without water?</td>\n",
       "      <td></td>\n",
       "      <td>Camels use the fat in their humps to keep them...</td>\n",
       "      <td>dummy_task</td>\n",
       "    </tr>\n",
       "    <tr>\n",
       "      <th>3</th>\n",
       "      <td>Alice's parents have three daughters: Amy, Jes...</td>\n",
       "      <td></td>\n",
       "      <td>The name of the third daughter is Alice</td>\n",
       "      <td>dummy_task</td>\n",
       "    </tr>\n",
       "    <tr>\n",
       "      <th>4</th>\n",
       "      <td>When was Tomoaki Komorida born?</td>\n",
       "      <td>Komorida was born in Kumamoto Prefecture on Ju...</td>\n",
       "      <td>Tomoaki Komorida was born on July 10,1981.</td>\n",
       "      <td>dummy_task</td>\n",
       "    </tr>\n",
       "  </tbody>\n",
       "</table>\n",
       "</div>"
      ],
      "text/plain": [
       "                                         instruction  \\\n",
       "0         When did Virgin Australia start operating?   \n",
       "1           Which is a species of fish? Tope or Rope   \n",
       "2     Why can camels survive for long without water?   \n",
       "3  Alice's parents have three daughters: Amy, Jes...   \n",
       "4                    When was Tomoaki Komorida born?   \n",
       "\n",
       "                                               input  \\\n",
       "0  Virgin Australia, the trading name of Virgin A...   \n",
       "1                                                      \n",
       "2                                                      \n",
       "3                                                      \n",
       "4  Komorida was born in Kumamoto Prefecture on Ju...   \n",
       "\n",
       "                                              output   task_name  \n",
       "0  Virgin Australia commenced services on 31 Augu...  dummy_task  \n",
       "1                                               Tope  dummy_task  \n",
       "2  Camels use the fat in their humps to keep them...  dummy_task  \n",
       "3            The name of the third daughter is Alice  dummy_task  \n",
       "4         Tomoaki Komorida was born on July 10,1981.  dummy_task  "
      ]
     },
     "execution_count": 29,
     "metadata": {},
     "output_type": "execute_result"
    }
   ],
   "source": [
    "df['task_name'] = \"dummy_task\"\n",
    "df.head()"
   ]
  },
  {
   "cell_type": "code",
   "execution_count": 30,
   "id": "3f17680c",
   "metadata": {},
   "outputs": [],
   "source": [
    "selected_df = get_selected_data(df, args, text_column=\"text\", label_column=\"task_name\") # label_column is not used\n",
    "selected_df.to_csv(\"../data/selected_data_from_300k.csv\", index=False)"
   ]
  },
  {
   "cell_type": "code",
   "execution_count": 31,
   "id": "e205194d",
   "metadata": {},
   "outputs": [],
   "source": [
    "selected_df.head(200).to_csv(\"../data/validation_selected_data_from_300k.csv\", index=False)"
   ]
  }
 ],
 "metadata": {
  "kernelspec": {
   "display_name": "Python 3 (ipykernel)",
   "language": "python",
   "name": "python3"
  },
  "language_info": {
   "codemirror_mode": {
    "name": "ipython",
    "version": 3
   },
   "file_extension": ".py",
   "mimetype": "text/x-python",
   "name": "python",
   "nbconvert_exporter": "python",
   "pygments_lexer": "ipython3",
   "version": "3.10.13"
  }
 },
 "nbformat": 4,
 "nbformat_minor": 5
}

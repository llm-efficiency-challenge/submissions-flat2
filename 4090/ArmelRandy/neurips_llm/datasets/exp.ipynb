{
 "cells": [
  {
   "cell_type": "code",
   "execution_count": null,
   "metadata": {},
   "outputs": [],
   "source": [
    "!pip install jellyfish"
   ]
  },
  {
   "cell_type": "code",
   "execution_count": null,
   "metadata": {},
   "outputs": [],
   "source": [
    "from datasets import DatasetDict, Dataset"
   ]
  },
  {
   "cell_type": "markdown",
   "metadata": {},
   "source": [
    "## FLAN2021"
   ]
  },
  {
   "cell_type": "code",
   "execution_count": null,
   "metadata": {},
   "outputs": [],
   "source": [
    "from datasets import load_dataset\n",
    "flan2021 = load_dataset(\"conceptofmind/flan2021_submix_original\", split=\"train\", streaming=True)"
   ]
  },
  {
   "cell_type": "markdown",
   "metadata": {},
   "source": [
    "- Summarize the given document.\n",
    "- Document: {tok_1 ... tok_n}\n",
    "- Summary: {tok_1 ... tok_m}"
   ]
  },
  {
   "cell_type": "code",
   "execution_count": null,
   "metadata": {},
   "outputs": [],
   "source": [
    "# summarize : huggingface:xsum, gigaword:1.2.0, multi_news:1.0.0, gem/wiki_lingua_english_en:1.1.0\n",
    "L = []\n",
    "for example in flan2021 :\n",
    "    if \"fs\" in example[\"template_type\"] :\n",
    "        continue\n",
    "    if \"summarize \" in example[\"inputs\"] :\n",
    "        L.append(example)"
   ]
  },
  {
   "cell_type": "code",
   "execution_count": null,
   "metadata": {},
   "outputs": [],
   "source": [
    "start_blacklist = [\n",
    "    \"Please briefly summarize this news article:\",\n",
    "    \"Briefly summarize this sentence:\"\n",
    "]\n",
    "end_blacklist = [\n",
    "    \"Summary:\",\n",
    "    \"Briefly summarize that dialogue.\"\n",
    "]\n",
    "blacklist = [\n",
    "    \"What best summarizes the content of the above article?\"\n",
    "]\n",
    "count = 0\n",
    "prompts = []\n",
    "W = []\n",
    "instruction = \"Summarize the given document.\"\n",
    "for example in L :\n",
    "    prompt = example[\"inputs\"]\n",
    "    completion = example[\"targets\"]\n",
    "    found = False\n",
    "    for k in start_blacklist :\n",
    "        if prompt.startswith(k) :\n",
    "            prompt = prompt[len(k):].strip()\n",
    "            found = True\n",
    "    if not found :\n",
    "        continue\n",
    "    for k in end_blacklist :\n",
    "        if prompt.endswith(k) :\n",
    "            prompt = prompt[:-len(k)].strip()\n",
    "    skip = False\n",
    "    for k in blacklist :\n",
    "        if prompt.find(k) != -1 :\n",
    "            skip = True\n",
    "            break\n",
    "    if skip : \n",
    "        continue\n",
    "    if prompt in prompts :\n",
    "        continue\n",
    "    else :\n",
    "        prompts.append(prompt)\n",
    "    count +=1\n",
    "    out = f\"{instruction}\\n\"+\"Document: {\"+prompt+\"}\\nSummary: {\"+completion+\"}\"\n",
    "    W.append(out)\n",
    "    print(out)\n",
    "    print(\"-\"*200)"
   ]
  },
  {
   "cell_type": "code",
   "execution_count": null,
   "metadata": {},
   "outputs": [],
   "source": [
    "count == len(W)"
   ]
  },
  {
   "cell_type": "code",
   "execution_count": null,
   "metadata": {},
   "outputs": [],
   "source": [
    "summary_dataset = Dataset.from_dict(\n",
    "    {\n",
    "        \"prompt\" : [e for e in W]\n",
    "    }\n",
    ")"
   ]
  },
  {
   "cell_type": "code",
   "execution_count": null,
   "metadata": {},
   "outputs": [],
   "source": [
    "summary_dataset.save_to_disk(\"summary_dataset\")"
   ]
  },
  {
   "cell_type": "code",
   "execution_count": null,
   "metadata": {},
   "outputs": [],
   "source": [
    "cnndm = flan2021.filter(lambda x : x[\"task_name\"] == 'cnn_dailymail:3.4.0')"
   ]
  },
  {
   "cell_type": "code",
   "execution_count": null,
   "metadata": {},
   "outputs": [],
   "source": [
    "start_blacklist = [\n",
    "    \"Write some highlights for the following article:\",\n",
    "    \"Write highlights for this article:\"\n",
    "]\n",
    "end_blacklist = [\n",
    "    \"What are the important parts of this article?\",\n",
    "    \"What are highlight points for this article?\",\n",
    "    \"Here is a summary of the highlights for this article:\",\n",
    "    \"Write highlights for this article.\",\n",
    "    \"Summarize the highlights of this article.\",\n",
    "    \"Highlights:\",\n",
    "]\n",
    "start_reverse = [\n",
    "    \"Write an article using the following points:\",\n",
    "    \"Use the following highlights to write an article:\"\n",
    "]\n",
    "end_reverse = [\n",
    "    \"Write an article based on these highlights.\",\n",
    "]\n",
    "K = []\n",
    "for i, example in enumerate(cnndm):\n",
    "  \"\"\"\n",
    "  if i < 1000 :\n",
    "    pass\n",
    "  if i >= 2000 :\n",
    "    break\n",
    "  \"\"\"\n",
    "  if \"zs\" not in example[\"template_type\"] :\n",
    "    continue\n",
    "  prompt = example[\"inputs\"]\n",
    "  completion = example[\"targets\"]\n",
    "  reverse = False\n",
    "  for k in start_reverse :\n",
    "    if prompt.startswith(k):\n",
    "      reverse = True\n",
    "      prompt = prompt[len(k):]\n",
    "      prompt, completion = completion, prompt\n",
    "      break\n",
    "  for k in end_reverse :\n",
    "    if prompt.endswith(k):\n",
    "      reverse = True\n",
    "      prompt = prompt[:-len(k)]\n",
    "      prompt, completion = completion, prompt\n",
    "      break\n",
    "  for k in start_blacklist :\n",
    "    if prompt.startswith(k) :\n",
    "      prompt = prompt[len(k):]\n",
    "      break\n",
    "  for k in end_blacklist :\n",
    "    if prompt.endswith(k) :\n",
    "      prompt = prompt[:-len(k)]\n",
    "  prompt = prompt.strip()\n",
    "  completion = completion.strip()\n",
    "  for k in [\"Article:\"]:\n",
    "    if completion.endswith(k):\n",
    "      completion = completion[:-len(k)].strip()\n",
    "      break\n",
    "  K.append((prompt, completion))\n",
    "  out = f\"INPUT\\n{prompt}\\n\\nOUTPUT\\n{completion}\"\n",
    "  print(out)\n",
    "  print(\"-\"*100)"
   ]
  },
  {
   "cell_type": "markdown",
   "metadata": {},
   "source": [
    "## Dialog"
   ]
  },
  {
   "cell_type": "code",
   "execution_count": null,
   "metadata": {},
   "outputs": [],
   "source": [
    "from datasets import load_dataset\n",
    "dialog = load_dataset(\"conceptofmind/dialog_submix_original\", split=\"train\")"
   ]
  },
  {
   "cell_type": "code",
   "execution_count": null,
   "metadata": {},
   "outputs": [],
   "source": [
    "for i, example in enumerate(dialog) :\n",
    "    if i >= 1000 :\n",
    "        break\n",
    "    if \"zs\" not in example[\"template_type\"] :\n",
    "        continue\n",
    "    prompt = example[\"inputs\"]\n",
    "    completion = example[\"targets\"]\n",
    "    print(f\"Question:\\n{prompt}\\n\\nAnswer:\\n{completion}\")\n",
    "    print(\"-\"*100)"
   ]
  },
  {
   "cell_type": "markdown",
   "metadata": {},
   "source": [
    "## T0"
   ]
  },
  {
   "cell_type": "code",
   "execution_count": null,
   "metadata": {},
   "outputs": [],
   "source": [
    "from datasets import load_dataset\n",
    "t0 = load_dataset(\"conceptofmind/t0_submix_original\", split=\"train\")"
   ]
  },
  {
   "cell_type": "code",
   "execution_count": null,
   "metadata": {},
   "outputs": [],
   "source": [
    "tasks = {}\n",
    "for task in t0[\"task_name\"] :\n",
    "    if task in tasks :\n",
    "        tasks[task] += 1\n",
    "    else :\n",
    "        tasks[task] = 1\n",
    "print(tasks)\n",
    "template_types = {}\n",
    "for template_type in t0[\"template_type\"] :\n",
    "    if template_type in template_types :\n",
    "        template_types[template_type] += 1\n",
    "    else :\n",
    "        template_types[template_type] = 1\n",
    "print(template_types)"
   ]
  },
  {
   "cell_type": "code",
   "execution_count": null,
   "metadata": {},
   "outputs": [],
   "source": [
    "#'wiki_qa_automatic_system' : yes/no\n",
    "for i, example in enumerate(t0):\n",
    "    if i >= 100000 :\n",
    "        break\n",
    "    if \"zs\" not in example[\"template_type\"] :\n",
    "        continue\n",
    "    prompt = example[\"inputs\"]\n",
    "    completion = example[\"targets\"]\n",
    "    if \"Options:\" in prompt :\n",
    "        print(f\"INPUT\\n{prompt}\\n\\nOUTPUT\\n{completion}\")\n",
    "        print(\"-\"*100)"
   ]
  },
  {
   "cell_type": "code",
   "execution_count": null,
   "metadata": {},
   "outputs": [],
   "source": [
    "K = []"
   ]
  },
  {
   "cell_type": "code",
   "execution_count": null,
   "metadata": {},
   "outputs": [],
   "source": [
    "start_blacklist = [\"Subject:\", \"Question:\", \"Answer the following question:\", \"Q:\", \"Given the question:\", \n",
    "    \"Please answer the following question:\", \"Read the article and select the best answer.\",\n",
    "    \"I'm taking a test and have to guess the right answer to the question after the article.\",\n",
    "    \"Read the article and select the best answer.\", \"Read the following context and choose the correct option to answer the question.\",\n",
    "    \"Pick the option in line with common sense to answer the question.\",\n",
    "    \"I'm taking a test and have to guess the right answer to the question after the article.\"\n",
    "]\n",
    "end_blacklist = [\"A:\", \"Answer:\", \"The answer is:\", \"The answer to this question is:\",\n",
    "                \"=== The correct answer is\"]\n",
    "for i, example in enumerate(t0) :\n",
    "    if i >= 10000000 :\n",
    "        break\n",
    "    if \"zs\" not in example[\"template_type\"] :\n",
    "        continue\n",
    "    prompt = example[\"inputs\"]\n",
    "    completion = example[\"targets\"]\n",
    "    if len(completion) == 1 :\n",
    "        for element in start_blacklist:\n",
    "            if prompt.strip().startswith(element) :\n",
    "                #print(f\"BEFORE\\n{prompt}\\n\\nAFTER\\n{prompt.strip()[len(element):].strip()}\")\n",
    "                prompt = prompt.strip()[len(element):].strip()\n",
    "                break\n",
    "        #print(\"-\"*200)\n",
    "        if \"Options:\" in prompt :\n",
    "            garbage = \"=== The correct answer is\"\n",
    "            end = prompt.find(\"Options:\")\n",
    "            header = prompt[:end]\n",
    "            remainder = prompt[end + len(\"Options: \"):]\n",
    "            candidates = [\"A. \", \"B. \", \"C. \", \"D. \"]\n",
    "            last = \"E. \"\n",
    "            if min([remainder.find(c) for c in candidates]) >= 0 :\n",
    "                pass\n",
    "            else :\n",
    "                candidates = [\"A: \", \"B: \", \"C: \", \"D: \"]\n",
    "                last = \"E: \"\n",
    "            clean = header.strip()+\"\\n\"\n",
    "            more = None\n",
    "            for j, element in enumerate(candidates):\n",
    "                if j == 3 :\n",
    "                    if remainder.find(last) == -1 :\n",
    "                        option = remainder[remainder.find(element)+len(element):]\n",
    "                    else :\n",
    "                        option = remainder[remainder.find(element)+len(element):remainder.find(last)]\n",
    "                        more = remainder[remainder.find(last)+len(last):]\n",
    "                else :\n",
    "                    option = remainder[remainder.find(element)+len(element):remainder.find(candidates[j+1])]\n",
    "                #print(f\"OPTION\\n{option}\")\n",
    "                clean += f\"{element}{option}\\n\"\n",
    "                if more :\n",
    "                    clean += f\"{last}{more}\\n\"\n",
    "            prompt = clean.strip()\n",
    "            for element in [\"Context: \", \"Article: \", \"Question: \"] :\n",
    "                index = prompt.find(element)\n",
    "                if index != -1 :\n",
    "                    left = prompt[0:index]\n",
    "                    right = prompt[index+len(element):]\n",
    "                    prompt = left+\"\\n\"+right\n",
    "                    break\n",
    "            for element in end_blacklist :\n",
    "                if prompt.strip().endswith(element) :\n",
    "                    prompt = prompt.strip()[:-len(element)].strip()\n",
    "                    break\n",
    "            # SECOND CHECKING\n",
    "            for element in start_blacklist:\n",
    "                if prompt.strip().startswith(element):\n",
    "                    prompt = prompt.strip()[len(element):].strip()\n",
    "                    break\n",
    "            for element in end_blacklist :\n",
    "                if prompt.strip().endswith(element) :\n",
    "                    prompt = prompt.strip()[:-len(element)].strip()\n",
    "                    break\n",
    "            #print(f\"INPUT\\n{prompt}\\n\\nOUTPUT\\n{completion}\\n\\nGATE\\n{example['inputs']}\")\n",
    "            #print(f\"INPUT\\n{prompt}\\n\\nOUTPUT\\n{completion}\")\n",
    "            #print(\"-\"*200)\n",
    "            K.append((prompt, completion))\n",
    "        else :\n",
    "            continue\n",
    "        #print(f\"INPUT\\n{prompt}\\n\\nOUTPUT\\n{completion}\")\n",
    "        #print(\"-\"*200)"
   ]
  },
  {
   "cell_type": "code",
   "execution_count": null,
   "metadata": {},
   "outputs": [],
   "source": [
    "import jellyfish\n",
    "threshold = 0.8"
   ]
  },
  {
   "cell_type": "code",
   "execution_count": null,
   "metadata": {},
   "outputs": [],
   "source": [
    "prompts = []\n",
    "W = []\n",
    "for i, (a, b) in enumerate(K) :\n",
    "    duplicate = False\n",
    "    for c in prompts :\n",
    "        #if jellyfish.jaro_similarity(a, c) >= threshold :\n",
    "        if c == a :\n",
    "            duplicate = True\n",
    "            break\n",
    "    if duplicate :\n",
    "        continue\n",
    "    prompts.append(a)\n",
    "    a = a.replace(\"A: \", \"A. \")\n",
    "    a = a.replace(\"B: \", \"B. \")\n",
    "    a = a.replace(\"C: \", \"C. \")\n",
    "    a = a.replace(\"D: \", \"D. \")\n",
    "    a = a.replace(\"E: \", \"E. \")\n",
    "    out = f\"Question: {a.strip()}\\nAnswer: {b.strip()}\"\n",
    "    W.append(out)\n",
    "    print(out)\n",
    "    print(\"-\"*200)"
   ]
  },
  {
   "cell_type": "code",
   "execution_count": null,
   "metadata": {},
   "outputs": [],
   "source": [
    "len(W)"
   ]
  },
  {
   "cell_type": "code",
   "execution_count": null,
   "metadata": {},
   "outputs": [],
   "source": [
    "qcm_dataset = Dataset.from_dict(\n",
    "    {\n",
    "        \"prompt\" : [e for e in W]\n",
    "    }\n",
    ")"
   ]
  },
  {
   "cell_type": "code",
   "execution_count": null,
   "metadata": {},
   "outputs": [],
   "source": [
    "qcm_dataset.save_to_disk(\"flan2021_qcm_dataset\")"
   ]
  },
  {
   "cell_type": "markdown",
   "metadata": {},
   "source": [
    "## CoT"
   ]
  },
  {
   "cell_type": "code",
   "execution_count": null,
   "metadata": {},
   "outputs": [],
   "source": [
    "mixture=[\n",
    "    ('flan2021_submix', 0.4),  # mixing weight = 40%\n",
    "    ('t0_submix', 0.32),       # mixing weight = 32%\n",
    "    ('niv2_submix', 0.2),      # mixing weight = 20%\n",
    "    ('cot_submix', 0.05),      # mixing weight = 5%\n",
    "    ('dialog_submix', 0.03),   # mixing weight = 3%\n",
    "]\n",
    "templates = {\n",
    "    \"next question:\" : \"reasoning\",\n",
    "    \"[Q]\" : \"[A]\",\n",
    "    #\"question:\" : \"answer:\",\n",
    "    \"Question:\" : \"Answer:\",\n",
    "    \"[Question]:\" : \"[Answer]:\",\n",
    "    \"Q:\": \"A:\",\n",
    "    \"question in book:\": \"standard solution:\",\n",
    "    \"[TEACHER]\": \"[Student]\",\n",
    "    \"QUESTION:\" : \"ME:\",\n",
    "    \"q:\" : \"a:\",\n",
    "    \"Jax:\" : \"Alex:\",\n",
    "    \"QUESTION:\" : \"SOLUTION:\",\n",
    "    \"Student:\" : \"Teacher:\",\n",
    "    \"[1]\" : '[2]',\n",
    "    \"Leo:\": \"Mei:\",\n",
    "    \"Answer the following question.\" : \"The answer is\",\n",
    "    \"Step-by-step reasoning process:\" : \"[Q & A]\"\n",
    "}"
   ]
  },
  {
   "cell_type": "code",
   "execution_count": null,
   "metadata": {},
   "outputs": [],
   "source": [
    "from datasets import load_dataset\n",
    "ds = load_dataset(\"conceptofmind/cot_submix_original\", split=\"train\")"
   ]
  },
  {
   "cell_type": "code",
   "execution_count": null,
   "metadata": {},
   "outputs": [],
   "source": [
    "tasks = {}\n",
    "for task in ds[\"task_name\"] :\n",
    "    if task in tasks :\n",
    "        tasks[task] += 1\n",
    "    else :\n",
    "        tasks[task] = 1\n",
    "print(tasks)\n",
    "template_types = {}\n",
    "for template_type in ds[\"template_type\"] :\n",
    "    if template_type in template_types :\n",
    "        template_types[template_type] += 1\n",
    "    else :\n",
    "        template_types[template_type] = 1\n",
    "print(template_types)"
   ]
  },
  {
   "cell_type": "code",
   "execution_count": null,
   "metadata": {},
   "outputs": [],
   "source": [
    "ds"
   ]
  },
  {
   "cell_type": "code",
   "execution_count": null,
   "metadata": {},
   "outputs": [],
   "source": [
    "for example in ds :\n",
    "    if \"fs\" in example[\"template_type\"] and \"[Question]\" in example[\"inputs\"]:\n",
    "        print(f\"{example['inputs']}\\n\\n{example['targets']}\")\n",
    "        break"
   ]
  },
  {
   "cell_type": "markdown",
   "metadata": {},
   "source": [
    "### gsm8k"
   ]
  },
  {
   "cell_type": "code",
   "execution_count": null,
   "metadata": {},
   "outputs": [],
   "source": [
    "start_blacklist = [\"My question is:\", \"Question:\",\n",
    "        \"Give the step-by-step reasoning process and then the final answer.\",\n",
    "        \"Consider the question.\", \"Question.\"\n",
    "]\n",
    "end_blacklist = [\n",
    "    \"Chain of thought:\", \n",
    "    \"Let's answer step by step:\",\n",
    "    \"Your thoughts:\",\n",
    "    \"I think this is the detailed solution:\",\n",
    "    \"Think carefully first, then make a decision:\",\n",
    "    \"Thoughts? Step-by-step reasoning:\",\n",
    "    \"What step-by-step reasoning justifies that answer?\"\n",
    "]\n",
    "black_completion = [\n",
    "    \"The question is:\",\n",
    "    \"Q:\"\n",
    "]\n",
    "black_prompt = [\n",
    "    \"Given the following reasoning and answer, what was the question?\",\n",
    "    \"For this chain-of-thought reasoning and answer, what was the question?\",\n",
    "    \"Given the rationale, provide a reasonable question and answer.\",\n",
    "    \"Reconstruct a question, answer pair from this explanation:\"\n",
    "]\n",
    "K = []\n",
    "for i, example in enumerate(ds):\n",
    "    if i >= 183848 :\n",
    "        break\n",
    "    if (example[\"task_name\"] != \"cot_gsm8k\" and example[\"task_name\"] != \"cot_gsm8k_ii\" ):\n",
    "        continue\n",
    "    prompt = example['inputs']\n",
    "    completion = example['targets']\n",
    "    x_shot = example[\"template_type\"]\n",
    "    if x_shot == \"zs_opt\" :\n",
    "        if prompt.startswith(\"Lizzy:\") :\n",
    "            prompt = prompt[len(\"Lizzy:\"):]\n",
    "            me = prompt.find(\"Me:\")\n",
    "            prompt = prompt[:me].strip()\n",
    "        for k in end_blacklist :\n",
    "            if prompt.strip().endswith(k):\n",
    "                prompt = prompt.strip()[:-len(k)]\n",
    "                break\n",
    "        for k in start_blacklist :\n",
    "            if prompt.startswith(k) :\n",
    "                prompt = prompt[len(k):].strip()\n",
    "                break\n",
    "        skip = False\n",
    "        for k in black_completion :\n",
    "            if completion.startswith(k) :\n",
    "                skip = True\n",
    "                break\n",
    "        for k in black_prompt :\n",
    "            if prompt.startswith(k) :\n",
    "                skip = True\n",
    "                break\n",
    "        if skip :\n",
    "            continue\n",
    "        K.append((prompt, completion))\n",
    "        #print(f\"INPUT\\n{prompt}\\n\\nOUTPUT\\n{completion}\")\n",
    "        #print(\"-\"*200)\n",
    "    else :\n",
    "        pass\n",
    "        \"\"\"\n",
    "        found = False\n",
    "        for k, v in templates.items() :\n",
    "            if prompt.strip().endswith(v) :\n",
    "                index = prompt.strip().rfind(k)\n",
    "                if index == -1 :\n",
    "                    continue\n",
    "                prompt = prompt[index+len(k):-len(v)].strip()\n",
    "                found = True\n",
    "                break\n",
    "        if completion.startswith(\"Step-by-step reasoning process:\") :\n",
    "            completion = completion[len(\"Step-by-step reasoning process: \"):]\n",
    "        if not found :\n",
    "            #print(f\"INPUT\\n{prompt}\\n\\nOUTPUT\\n{completion}\")\n",
    "            #print(\"-\"*200)\n",
    "        \"\"\""
   ]
  },
  {
   "cell_type": "code",
   "execution_count": null,
   "metadata": {},
   "outputs": [],
   "source": [
    "len(K)"
   ]
  },
  {
   "cell_type": "code",
   "execution_count": null,
   "metadata": {},
   "outputs": [],
   "source": [
    "print(len(K))\n",
    "prompts = []\n",
    "W1 = []\n",
    "for i, (a, b) in enumerate(K) :\n",
    "    duplicate = False\n",
    "    for c in prompts :\n",
    "        #if jellyfish.jaro_similarity(a, c) >= threshold :\n",
    "        if c == a :\n",
    "            duplicate = True\n",
    "            break\n",
    "    if duplicate :\n",
    "        continue\n",
    "    prompts.append(a)\n",
    "    out = f\"Question: {a.strip()}\\nAnswer: {b.strip()}\"\n",
    "    W1.append(out)\n",
    "    print(out)\n",
    "    print(\"-\"*200)\n",
    "print(len(W1))"
   ]
  },
  {
   "cell_type": "code",
   "execution_count": null,
   "metadata": {},
   "outputs": [],
   "source": [
    "W1new = []\n",
    "for a in W1 :\n",
    "    found = False\n",
    "    for k in [\"Explanation:\", \"Reasoning:\", \"Q & A:\", \"this implicit rationale, and corresponding answer\"\n",
    "        \"stream-of-consciousness\", \"reasoning\", \"the stream of consciousness\", \"rationale\"\n",
    "    ]:\n",
    "        if a.find(k) != -1 :\n",
    "            found = True\n",
    "            break\n",
    "    if found :\n",
    "        continue\n",
    "    a = a.replace(\"Final answer:\", \"The answer is\")\n",
    "    a = a.replace(\"The final answer:\", \"The answer is\")\n",
    "    a = a.replace(\"So the final answer is\", \"The answer is\")\n",
    "    a = a.replace(\"Thus, the answer is\", \"The answer is\")\n",
    "    a = a.replace(\"Therefore, the answer is\", \"The answer is\")\n",
    "    a = a.replace(\"The answer:\", \"The answer is\")\n",
    "    a = a.replace(\"So the answer is\", \"The answer is\")\n",
    "    i = a.find(\"The answer is\")\n",
    "    if i == -1 :\n",
    "        continue\n",
    "    if a[i-1] == \"\\n\" :\n",
    "        if a[i-2] == \".\" :\n",
    "            a = a[:i-1]+\" \"+a[i:]\n",
    "        else :\n",
    "            a = a[:i-1]+a[i:]\n",
    "    a = a.replace(\"Let's think first.\", \"\")\n",
    "    a = a.replace(\"Give me reasons, before answering the question\", \"\")\n",
    "    W1new.append(a)\n",
    "    print(a)\n",
    "    print(\"-\"*100)\n",
    "print(len(W1new))"
   ]
  },
  {
   "cell_type": "code",
   "execution_count": null,
   "metadata": {},
   "outputs": [],
   "source": [
    "cot_gsm8k = Dataset.from_dict(\n",
    "    {\n",
    "        \"prompt\" : [e for e in W1new]\n",
    "    }\n",
    ")"
   ]
  },
  {
   "cell_type": "markdown",
   "metadata": {},
   "source": [
    "### stream aqua"
   ]
  },
  {
   "cell_type": "code",
   "execution_count": null,
   "metadata": {},
   "outputs": [],
   "source": [
    "start_blacklist = [\"Q:\", \"Question:\", \"Some question:\", \"Student:\"]\n",
    "end_blacklist = [\"Another student: Let's say, hmmm...\",\n",
    "                 \"Think first, then make a decision. Some random thoughts:\",\n",
    "                 \"Now, let's think a bit. Some random thoughts:\",\n",
    "                 \"Let's think first. Stream of consciousness:\",\n",
    "                 \"Let's give some random thoughts before answering.\",\n",
    "                 \"Let's think first. Some random reasoning:\",\n",
    "                 \"Random thoughts:\",\n",
    "                 \"OK. Let's think. Some random thoughts first:\",\n",
    "                 \"Hmmm, my stream of consciousness:\",\n",
    "                 \"Stream of consciousness:\",\n",
    "                 \"Stream of consciousness first, then make a decision:\",\n",
    "                 \"Some stream of consciousness:\"\n",
    "                ]\n",
    "K = []\n",
    "for i, example in enumerate(ds) :\n",
    "    if i >= 200000 :\n",
    "        break\n",
    "    #if example[\"task_name\"] == \"cot_sensemaking\" : # sentence nonsensical\n",
    "    #if example[\"task_name\"] == \"cot_esnli_ii\" : # premise, hypothesis\n",
    "    #if example[\"task_name\"] == \"cot_esnli\" : # premise, hypothesis\n",
    "    #if example[\"task_name\"] == 'cot_ecqa' : # options\n",
    "    #if example[\"task_name\"] == \"stream_qed\" : # reading comprehension\n",
    "    #if example[\"task_name\"] == \"cot_creak_ii\" : # not\n",
    "    #if example[\"task_name\"] == \"cot_strategyqa\" : # general knowledge\n",
    "    #if example[\"task_name\"] == 'cot_qasc_ii' : # bete\n",
    "    if example[\"task_name\"] == 'stream_aqua' : # math\n",
    "        if \"zs\" in example[\"template_type\"] :\n",
    "            prompt = example['inputs']\n",
    "            completion = example['targets']\n",
    "            for c in start_blacklist :\n",
    "                if prompt.strip().startswith(c) :\n",
    "                    prompt = prompt.strip()[len(c):]\n",
    "                    break\n",
    "            for c in end_blacklist :\n",
    "                if prompt.strip().endswith(c):\n",
    "                    prompt = prompt.strip()[:-len(c)]\n",
    "                    break\n",
    "            index = prompt.find(\"Options:\")\n",
    "            if index == -1 :\n",
    "                continue\n",
    "            left = prompt[:index]\n",
    "            right = prompt[index+len(\"Options:\"):]\n",
    "            new_prompt = left.strip()+\"\\n\"+right.strip()\n",
    "            for (a, b) in [\n",
    "                (\"(A) \", \"A. \"),\n",
    "                (\"(B) \", \"B. \"),\n",
    "                (\"(C) \", \"C. \"),\n",
    "                (\"(D) \", \"D. \"),\n",
    "                (\"(E) \", \"E. \"),\n",
    "            ] :\n",
    "                new_prompt = new_prompt.replace(a, b)\n",
    "                completion = completion.replace(a.strip(), b.strip()[:-1])\n",
    "            K.append((new_prompt, completion))\n",
    "            #print(f\"INPUT\\n{new_prompt}\\n\\nOUTPUT\\n{completion}\")\n",
    "            #print(\"-\"*200)"
   ]
  },
  {
   "cell_type": "code",
   "execution_count": null,
   "metadata": {},
   "outputs": [],
   "source": [
    "print(len(K))\n",
    "prompts = []\n",
    "W2 = []\n",
    "for i, (a, b) in enumerate(K) :\n",
    "    duplicate = False\n",
    "    for c in prompts :\n",
    "        #if jellyfish.jaro_similarity(a, c) >= threshold :\n",
    "        if c == a :\n",
    "            duplicate = True\n",
    "            break\n",
    "    if duplicate :\n",
    "        continue\n",
    "    prompts.append(a)\n",
    "    out = f\"Question: {a.strip()}\\nAnswer: {b.strip()}\"\n",
    "    out = out.replace(\"Final answer:\", \"The answer is\")\n",
    "    out = out.replace(\"The final answer:\", \"The answer is\")\n",
    "    out = out.replace(\"So the final answer is\", \"The answer is\")\n",
    "    out = out.replace(\"Thus, the answer is\", \"The answer is\")\n",
    "    out = out.replace(\"Therefore, the answer is\", \"The answer is\")\n",
    "    out = out.replace(\"The answer:\", \"The answer is\")\n",
    "    out = out.replace(\"So the answer is\", \"The answer is\")\n",
    "    out = out.replace(\"So the final answer\", \"The answer is\")\n",
    "    W2.append(out)\n",
    "    print(out)\n",
    "    print(\"-\"*200)\n",
    "print(len(W2))"
   ]
  },
  {
   "cell_type": "code",
   "execution_count": null,
   "metadata": {},
   "outputs": [],
   "source": [
    "cot_aqua = Dataset.from_dict(\n",
    "    {\n",
    "        \"prompt\" : [e for e in W2]\n",
    "    }\n",
    ")"
   ]
  },
  {
   "cell_type": "code",
   "execution_count": null,
   "metadata": {},
   "outputs": [],
   "source": [
    "cot_aqua[0]"
   ]
  },
  {
   "cell_type": "markdown",
   "metadata": {},
   "source": [
    "### ecqa"
   ]
  },
  {
   "cell_type": "code",
   "execution_count": null,
   "metadata": {},
   "outputs": [],
   "source": [
    "start_blacklist = [\n",
    "    \"Use reasoning to lead to the answer of the following question:\",\n",
    "    \"I'll give you a question, please answer with step-by-step reasoning process.\",\n",
    "    \"next question:\"\n",
    "]\n",
    "end_blacklist = [\n",
    "    \"Step-by-step reasoning process below:\",\n",
    "    \"Hmmm, let me think.\",\n",
    "    \"Let's think now! Step-by-step reasoning:\",\n",
    "    \"reasoning:\",\n",
    "    \"Reasoning process:\",\n",
    "    \"Let's give stream of consciousness first:\",\n",
    "    \"Let's think step by step:\",\n",
    "    \"Please answer and provide answer explanation.\",\n",
    "    \"Let's think carefully first. Step-by-step reasoning process:\"\n",
    "]\n",
    "K = []\n",
    "for i, example in enumerate(ds) :\n",
    "    if i >= 100000 :\n",
    "        break\n",
    "    #if example[\"task_name\"] == \"cot_sensemaking\" : # sentence nonsensical\n",
    "    #if example[\"task_name\"] == \"cot_esnli_ii\" : # premise, hypothesis\n",
    "    #if example[\"task_name\"] == \"cot_esnli\" : # premise, hypothesis\n",
    "    #if example[\"task_name\"] == 'cot_ecqa' : # options\n",
    "    #if example[\"task_name\"] == \"stream_qed\" : # reading comprehension\n",
    "    #if example[\"task_name\"] == \"cot_creak_ii\" : # not\n",
    "    #if example[\"task_name\"] == \"cot_strategyqa\" : # general knowledge\n",
    "    #if example[\"task_name\"] == 'cot_qasc_ii' : # bete\n",
    "    #if example[\"task_name\"] == 'stream_aqua' : # math\n",
    "    if example[\"task_name\"] == 'cot_ecqa' : # options\n",
    "        if \"zs\" in example[\"template_type\"] :\n",
    "            prompt = example['inputs']\n",
    "            completion = example['targets']\n",
    "            for c in start_blacklist :\n",
    "                if prompt.strip().startswith(c) :\n",
    "                    prompt = prompt.strip()[len(c):]\n",
    "                    break\n",
    "            for c in end_blacklist :\n",
    "                if prompt.strip().endswith(c):\n",
    "                    prompt = prompt.strip()[:-len(c)]\n",
    "                    break\n",
    "            index = prompt.find(\"Options:\")\n",
    "            if index == -1 :\n",
    "                continue\n",
    "            left = prompt[:index]\n",
    "            right = prompt[index+len(\"Options:\"):]\n",
    "            new_prompt = left.strip()+\"\\n\"+right.strip()\n",
    "            for (a, b) in [\n",
    "                (\"(A) \", \"A. \"),\n",
    "                (\"(B) \", \"B. \"),\n",
    "                (\"(C) \", \"C. \"),\n",
    "                (\"(D) \", \"D. \"),\n",
    "                (\"(E) \", \"E. \"),\n",
    "            ] :\n",
    "                new_prompt = new_prompt.replace(a, b)\n",
    "                completion = completion.replace(a.strip(), b.strip()[:-1])\n",
    "            K.append((new_prompt, completion))\n",
    "            #print(f\"INPUT\\n{new_prompt}\\n\\nOUTPUT\\n{completion}\")\n",
    "            #print(\"-\"*200)"
   ]
  },
  {
   "cell_type": "code",
   "execution_count": null,
   "metadata": {},
   "outputs": [],
   "source": [
    "print(len(K))\n",
    "prompts = []\n",
    "W3 = []\n",
    "for i, (a, b) in enumerate(K) :\n",
    "    duplicate = False\n",
    "    for c in prompts :\n",
    "        #if jellyfish.jaro_similarity(a, c) >= threshold :\n",
    "        if c == a :\n",
    "            duplicate = True\n",
    "            break\n",
    "    if duplicate :\n",
    "        continue\n",
    "    prompts.append(a)\n",
    "    out = f\"Question: {a.strip()}\\nAnswer: {b.strip()}\"\n",
    "    out = out.replace(\"Final answer:\", \"The answer is\")\n",
    "    out = out.replace(\"The final answer:\", \"The answer is\")\n",
    "    out = out.replace(\"So the final answer is\", \"The answer is\")\n",
    "    out = out.replace(\"Thus, the answer is\", \"The answer is\")\n",
    "    out = out.replace(\"Therefore, the answer is\", \"The answer is\")\n",
    "    out = out.replace(\"The answer:\", \"The answer is\")\n",
    "    out = out.replace(\"So the answer is\", \"The answer is\")\n",
    "    out = out.replace(\"So the final answer\", \"The answer is\")\n",
    "    W3.append(out)\n",
    "    print(out)\n",
    "    print(\"-\"*200)\n",
    "print(len(W3))"
   ]
  },
  {
   "cell_type": "code",
   "execution_count": null,
   "metadata": {},
   "outputs": [],
   "source": [
    "cot_ecqa = Dataset.from_dict(\n",
    "    {\n",
    "        \"prompt\" : [e for e in W3]\n",
    "    }\n",
    ")"
   ]
  },
  {
   "cell_type": "code",
   "execution_count": null,
   "metadata": {},
   "outputs": [],
   "source": [
    "cot_ecqa[0]"
   ]
  },
  {
   "cell_type": "markdown",
   "metadata": {},
   "source": [
    "### strategyqa"
   ]
  },
  {
   "cell_type": "code",
   "execution_count": null,
   "metadata": {},
   "outputs": [],
   "source": [
    "start_blacklist = [\n",
    "    \"Answer the following question by reasoning step-by-step.\",\n",
    "    \"Answer the following question, but give the rationale first.\",\n",
    "    \"Q:\",\n",
    "    \"Let's answer this question slowly:\"\n",
    "\n",
    "]\n",
    "end_blacklist = [\n",
    "    \"Given the above question, please answer with reasoning first!\",\n",
    "    \"Think carefully first, then make a decision:\",\n",
    "    \"Hmmm, my chain of thoughts:\",\n",
    "    \"Think slowly and carefully, before giving your answer.\",\n",
    "    \"Chain of thought:\",\n",
    "    \"Now, let's think step by step:\",\n",
    "    \"Please answer step by step:\"\n",
    "\n",
    "]\n",
    "K = []\n",
    "for i, example in enumerate(ds) :\n",
    "    if i >= 100000 :\n",
    "        break\n",
    "    #if example[\"task_name\"] == \"cot_sensemaking\" : # sentence nonsensical\n",
    "    #if example[\"task_name\"] == \"cot_esnli_ii\" : # premise, hypothesis\n",
    "    #if example[\"task_name\"] == \"cot_esnli\" : # premise, hypothesis\n",
    "    #if example[\"task_name\"] == 'cot_ecqa' : # options\n",
    "    #if example[\"task_name\"] == \"stream_qed\" : # reading comprehension\n",
    "    #if example[\"task_name\"] == \"cot_creak_ii\" : # not\n",
    "    if example[\"task_name\"] == \"cot_strategyqa\" : # general knowledge\n",
    "    #if example[\"task_name\"] == 'cot_qasc_ii' : # bete\n",
    "        if \"zs\" in example[\"template_type\"] :\n",
    "            prompt = example['inputs']\n",
    "            completion = example['targets']\n",
    "            for c in start_blacklist :\n",
    "                if prompt.strip().startswith(c) :\n",
    "                    prompt = prompt.strip()[len(c):]\n",
    "                    break\n",
    "            for c in end_blacklist :\n",
    "                if prompt.strip().endswith(c):\n",
    "                    prompt = prompt.strip()[:-len(c)]\n",
    "                    break\n",
    "            K.append((prompt.strip(), completion.strip()))\n",
    "            print(f\"INPUT\\n{prompt}\\n\\nOUTPUT\\n{completion}\")\n",
    "            print(\"-\"*200)"
   ]
  },
  {
   "cell_type": "code",
   "execution_count": null,
   "metadata": {},
   "outputs": [],
   "source": [
    "print(len(K))\n",
    "prompts = []\n",
    "W4 = []\n",
    "for i, (a, b) in enumerate(K) :\n",
    "    duplicate = False\n",
    "    for c in prompts :\n",
    "        #if jellyfish.jaro_similarity(a, c) >= threshold :\n",
    "        if c == a :\n",
    "            duplicate = True\n",
    "            break\n",
    "    if duplicate :\n",
    "        continue\n",
    "    prompts.append(a)\n",
    "    out = f\"Question: {a.strip()}\\nAnswer: {b.strip()}\"\n",
    "    out = out.replace(\"Therefore, the answer is\", \"The answer is\")\n",
    "    out = out.replace(\"Therefore, the final answer is\", \"The answer is\")\n",
    "    out = out.replace(\"The answer:\", \"The answer is\")\n",
    "    out = out.replace(\"Final answer:\", \"The answer is\")\n",
    "    out = out.replace(\"So, the final answer is\", \"The answer is\")\n",
    "    out = out.replace(\"So, the answer is\", \"The answer is\")\n",
    "    i = out.find(\"The answer is\")\n",
    "    if out[i-1] == \"\\n\" :\n",
    "        out = out[:i-1]+out[i:]\n",
    "    W4.append(out)\n",
    "    print(out)\n",
    "    print(\"-\"*200)\n",
    "print(len(W4))"
   ]
  },
  {
   "cell_type": "code",
   "execution_count": null,
   "metadata": {},
   "outputs": [],
   "source": [
    "cot_strategyqa = Dataset.from_dict(\n",
    "    {\n",
    "        \"prompt\" : [e for e in W4]\n",
    "    }\n",
    ")"
   ]
  },
  {
   "cell_type": "code",
   "execution_count": null,
   "metadata": {},
   "outputs": [],
   "source": [
    "cot_strategyqa[0]"
   ]
  },
  {
   "cell_type": "markdown",
   "metadata": {},
   "source": [
    "### stream_qed : reading comprehension"
   ]
  },
  {
   "cell_type": "code",
   "execution_count": null,
   "metadata": {},
   "outputs": [],
   "source": [
    "start_blacklist = [\n",
    "    \"Quoc:\", \"Q:\", \"Give a stream of consciousness and then the final answer.\",\n",
    "    \"Answer the following Q with stream of consciousness.\",\n",
    "    \"I got a question for you:\", \"Output a stream of consciousness before answering the following.\",\n",
    "    \"Use stream of consciousness to answer the following.\",\n",
    "    \"Give some stream of consciousness and then the answer.\"\n",
    "]\n",
    "end_blacklist = [\n",
    "    \"HW Chung: OK, some thoughts:\", \"Let's think first:\",\n",
    "    \"Okie... think carefully first, then make a decision:\",\n",
    "    \"Let's think fast. Stream of consciousness:\",\n",
    "    \"Let's give stream of consciousness below\",\n",
    "    \"Steam of consciousness below:\",\n",
    "    \"Let's give stream of consciousness first:\",\n",
    "    \"Let's have some stream of consciousness first.\",\n",
    "    \"OK. Let's think. My stream of consciousness:\"\n",
    "]\n",
    "start_blacklist_completion = [\n",
    "    \"The relevant sentence in the passage is:\",\n",
    "    \"To answer the above question, the relevant sentence is:\",\n",
    "    \"This is the relevant information:\",\n",
    "    \"The important part for answering this question is:\",\n",
    "    \"To answer this question, we should know that:\",\n",
    "    \"To answer the question, consider the following:\",\n",
    "    \"The relevant information is:\",\n",
    "    \"The relevant information to answer the above question is:\"\n",
    "]\n",
    "K = []\n",
    "for i, example in enumerate(ds) :\n",
    "    if i >= 100000 :\n",
    "        break\n",
    "    #if example[\"task_name\"] == \"cot_sensemaking\" : # sentence nonsensical\n",
    "    #if example[\"task_name\"] == \"cot_esnli_ii\" : # premise, hypothesis\n",
    "    #if example[\"task_name\"] == \"cot_esnli\" : # premise, hypothesis\n",
    "    if example[\"task_name\"] == \"stream_qed\" : # reading comprehension\n",
    "    #if example[\"task_name\"] == \"cot_creak_ii\" : # yes/no could require to reverse question and answer\n",
    "    #if example[\"task_name\"] == 'cot_qasc_ii' : # should reverse question and answer\n",
    "        if \"zs\" in example[\"template_type\"] :\n",
    "            prompt = example['inputs']\n",
    "            completion = example['targets']\n",
    "            for c in start_blacklist :\n",
    "                if prompt.strip().startswith(c) :\n",
    "                    prompt = prompt.strip()[len(c):]\n",
    "                    break\n",
    "            for c in end_blacklist :\n",
    "                if prompt.strip().endswith(c):\n",
    "                    prompt = prompt.strip()[:-len(c)]\n",
    "                    break\n",
    "            for c in start_blacklist_completion :\n",
    "                if completion.strip().startswith(c) :\n",
    "                    completion = completion.strip()[len(c):]\n",
    "                    break\n",
    "            K.append((prompt.strip(), completion.strip()))\n",
    "            print(f\"INPUT\\n{prompt.strip()}\\n\\nOUTPUT\\n{completion.strip()}\")\n",
    "            print(\"-\"*200)"
   ]
  },
  {
   "cell_type": "code",
   "execution_count": null,
   "metadata": {},
   "outputs": [],
   "source": [
    "print(len(K))\n",
    "prompts = []\n",
    "W5 = []\n",
    "for i, (a, b) in enumerate(K) :\n",
    "    duplicate = False\n",
    "    for c in prompts :\n",
    "        #if jellyfish.jaro_similarity(a, c) >= threshold :\n",
    "        if c == a :\n",
    "            duplicate = True\n",
    "            break\n",
    "    if duplicate :\n",
    "        continue\n",
    "    prompts.append(a)\n",
    "    out = f\"{a.strip()}\\nAnswer: {b.strip()}\"\n",
    "    out = out.replace(\"Therefore, the answer is\", \"The answer is\")\n",
    "    out = out.replace(\"Therefore, the final answer is\", \"The answer is\")\n",
    "    out = out.replace(\"The answer:\", \"The answer is\")\n",
    "    out = out.replace(\"Final answer:\", \"The answer is\")\n",
    "    out = out.replace(\"So, the final answer is\", \"The answer is\")\n",
    "    out = out.replace(\"So, the answer is\", \"The answer is\")\n",
    "    for k in [\n",
    "        \"Answer this question based on the passage:\",\n",
    "        \"Answer this question:\",\n",
    "    ]:\n",
    "        out = out.replace(k, \"Question:\")\n",
    "    W5.append(out)\n",
    "    print(out)\n",
    "    print(\"-\"*200)\n",
    "print(len(W5))"
   ]
  },
  {
   "cell_type": "code",
   "execution_count": null,
   "metadata": {},
   "outputs": [],
   "source": [
    "cot_qed = Dataset.from_dict(\n",
    "    {\n",
    "        \"prompt\" : [e for e in W5]\n",
    "    }\n",
    ")"
   ]
  },
  {
   "cell_type": "markdown",
   "metadata": {},
   "source": [
    "### cot gsm8k"
   ]
  },
  {
   "cell_type": "code",
   "execution_count": null,
   "metadata": {},
   "outputs": [],
   "source": [
    "for i, example in enumerate(ds):\n",
    "    if i >= 2000 :\n",
    "        break\n",
    "    if \"does 3 loads\" in example[\"inputs\"] :\n",
    "        print(i)\n",
    "        print(example)\n",
    "        break"
   ]
  },
  {
   "cell_type": "code",
   "execution_count": null,
   "metadata": {},
   "outputs": [],
   "source": [
    "print(example[\"inputs\"])"
   ]
  },
  {
   "cell_type": "code",
   "execution_count": null,
   "metadata": {},
   "outputs": [],
   "source": [
    "triplets = [\n",
    "    (\"Q:\", \"A:\", None),\n",
    "    (\"Question:\", \"Answer:\", None),\n",
    "    (\"[Question]\", \"[Answer]\", None),\n",
    "    (\"Answer the following question.\", \"Step-by-step reasoning process:\", \"The answer is\"),\n",
    "    (\"Answer this question:\", \"The answer is\", None),\n",
    "    (\"We have a question:\", \"And an answer:\", \"So how you got the answer?\"),\n",
    "    (\"Reasoning and answer:\", \"The answer:\", \"What was the question?\\nQuestion:\"),\n",
    "    (\"Reasoning & answer:\", \"The answer:\", \"Question:\"),\n",
    "    (\"Step-by-step reasoning process:\", \"[Q & A]\", \"The answer is\"),\n",
    "    (\"Consider the Q and A. Q:\", \"A:\", \"What is the step-by-step reasoning process?\\nStep-by-step reasoning process:\"),\n",
    "    (\"Come up with a question and reasoning that would justify this answer:\", \"Question and rationale:\",\n",
    "    \"Step-by-step reasoning process:\"),\n",
    "    (None, \"The answer:\",\"Reverse engineering the question:\"),\n",
    "    (None, \"Let's think:\", None),\n",
    "    (None, \"Let's think step by step.\", None)\n",
    "]\n",
    "K = []\n",
    "q = 0\n",
    "for i, example in enumerate(ds):\n",
    "    if i >= 1000 :\n",
    "        break\n",
    "    if (example[\"task_name\"] != \"cot_gsm8k\" and example[\"task_name\"] != \"cot_gsm8k_ii\"):\n",
    "        continue\n",
    "    prompt = example['inputs']\n",
    "    completion = example['targets']\n",
    "    x_shot = example[\"template_type\"]\n",
    "    if x_shot == \"zs_opt\" :\n",
    "        pass\n",
    "    else :\n",
    "        q += 1\n",
    "        found = False\n",
    "        z = 0\n",
    "        while z < 4 :\n",
    "            for a, b, c in triplets :\n",
    "                if a is None :\n",
    "                    if c is None :\n",
    "                        i2 = prompt.find(b)\n",
    "                        if i2 == -1 :\n",
    "                            continue\n",
    "                        p1 = prompt[0:i2]\n",
    "                        end = prompt[i2+len(b):].find(\"\\n\")\n",
    "                        if end != -1 :\n",
    "                            p2 = prompt[i2+len(b):i2+len(b)+end]\n",
    "                            next = prompt[i2+len(b)+end:].strip()\n",
    "                        else :\n",
    "                            p2 = prompt[i2+len(b):]\n",
    "                            next = \"\"\n",
    "                        p3 = \"<none>\"\n",
    "                    else :\n",
    "                        i2 = prompt.find(b)\n",
    "                        i3 = prompt.find(c)\n",
    "                        if i2 == -1 or i3 == -1 :\n",
    "                            continue\n",
    "                        if i2 >= i3 :\n",
    "                            continue\n",
    "                        p1 = prompt[:i2]\n",
    "                        p2 = prompt[i2+len(b):i3]\n",
    "                        end = prompt[i3+len(c):].find(\"\\n\")\n",
    "                        if end != -1 :\n",
    "                            p3 = prompt[i3+len(c):i3+len(c)+end].strip()\n",
    "                            next = prompt[i3+len(c)+end:].strip()\n",
    "                        else : \n",
    "                            p3 = prompt[i3+len(c):].strip()\n",
    "                            next = \"\"\n",
    "                    found = True\n",
    "                    prompt = next\n",
    "                    z += 1\n",
    "                    break\n",
    "                else :\n",
    "                    if prompt.startswith(a) :\n",
    "                        i1 = 0\n",
    "                        i2 = prompt.find(b)\n",
    "                        p1 = prompt[i1+len(a):i2].strip()\n",
    "                        if c is None :\n",
    "                            end = prompt[i2+len(b):].find(\"\\n\")\n",
    "                            if end != -1 :\n",
    "                                p2 = prompt[i2+len(b):i2+len(b)+end]\n",
    "                                next = prompt[i2+len(b)+end:].strip()\n",
    "                            else :\n",
    "                                p2 = prompt[i2+len(b):]\n",
    "                                next = \"\"\n",
    "                            p3 = \"<none>\"\n",
    "                        else :\n",
    "                            i3 = prompt.find(c)\n",
    "                            p2 = prompt[i2+len(b):i3].strip()\n",
    "                            end = prompt[i3+len(c):].find(\"\\n\")\n",
    "                            if end != -1 :\n",
    "                                p3 = prompt[i3+len(c):i3+len(c)+end].strip()\n",
    "                                next = prompt[i3+len(c)+end:].strip()\n",
    "                            else : \n",
    "                                p3 = prompt[i3+len(c):].strip()\n",
    "                                next = \"\"\n",
    "                        found = True\n",
    "                        prompt = next\n",
    "                        z += 1\n",
    "                        break\n",
    "                    else :\n",
    "                        continue\n",
    "            if len(prompt) == 0 or not found :\n",
    "                break\n",
    "            print(f\"P1: {p1}\\nP2: {p2}\\nP3: {p3}\")\n",
    "        print(\"-\"*200)        \n",
    "        #if not found :\n",
    "        #    print(f\"INPUT\\n{prompt}\\n\\nOUTPUT\\n{completion}\")\n",
    "        #    print(\"-\"*200)"
   ]
  },
  {
   "cell_type": "markdown",
   "metadata": {},
   "source": [
    "### entailment"
   ]
  },
  {
   "cell_type": "code",
   "execution_count": null,
   "metadata": {},
   "outputs": [],
   "source": [
    "couples = [\n",
    "    (\"Premise:\", \"Hypothesis:\"),\n",
    "    (\"Premise:\", \"Based on this premise, can we conclude that the hypothesis\"),\n",
    "    (\"Given the sentence\", \"is it true that\"),\n",
    "    (\"Denny asked: If\", \"does that mean that\"),\n",
    "    (\"Given the sentence\", \"can we conclude that\"),\n",
    "    (\"Student: Can we conclude from\", \"that\"),\n",
    "    (\"Can we conclude from\", \"that\"),\n",
    "    (\"If \", \"does that mean that\"),\n",
    "    (\"Premise:\", \"Based on this premise, can we conclude that the hypothesis\")\n",
    "]\n",
    "tp = [\n",
    "    \"The answer:\",\n",
    "    \"the answer is\",\n",
    "    \"The answer is\",\n",
    "    \"The final answer:\",\n",
    "    \"Final answer:\"\n",
    "]\n",
    "nli_header = \"Determine whether the following pairs of sentences embody an entailment relation or not.\"\n",
    "nli_end = \"A. entailment\\nB. no-entailment\"\n",
    "K = []\n",
    "count = 0\n",
    "for i, example in enumerate(ds) :\n",
    "    prompt = example['inputs']\n",
    "    completion = example['targets']\n",
    "    if i >= 200000 :\n",
    "        break\n",
    "    if \"cot_esnli\" in  example[\"task_name\"] : # entailement\n",
    "        if \"zs\" in example[\"template_type\"] :\n",
    "            found = False\n",
    "            for (a, b) in couples :\n",
    "                if prompt.find(a) == -1 or prompt.find(b) == -1 :\n",
    "                    continue\n",
    "                i1 = prompt.find(a)\n",
    "                subprompt = prompt[i1+len(a):]\n",
    "                start = subprompt.find('\"')\n",
    "                end = subprompt[start+1:].find('\"')\n",
    "                premise = subprompt[start+1:end+1]\n",
    "                i2 = prompt.find(b)\n",
    "                subprompt = prompt[i2+len(b):]\n",
    "                start = subprompt.find('\"')\n",
    "                end = subprompt[start+1:].find('\"')\n",
    "                hypothesis = subprompt[start+1:end+1]\n",
    "                found = True\n",
    "                break\n",
    "            #K.append((prompt.strip(), completion.strip()))\n",
    "            if found :\n",
    "                premise = premise.strip()\n",
    "                if not premise.endswith(\".\")  :\n",
    "                    premise += \".\"\n",
    "                hypothesis = hypothesis.strip()\n",
    "                if not hypothesis.endswith(\".\") :\n",
    "                    hypothesis += \".\"\n",
    "                out = f\"{nli_header}\\n\\nSentences: {premise} So {hypothesis}\\n{nli_end}\"\n",
    "                answer = None\n",
    "                for k in tp :\n",
    "                    i1 = completion.find(k)\n",
    "                    if i1 != -1 :\n",
    "                        end = completion[i1+len(k):].find(\".\")\n",
    "                        if end == -1 :\n",
    "                            answer = completion[i1+len(k):].strip()\n",
    "                        else :\n",
    "                            answer = completion[i1+len(k):i1+len(k)+end].strip()\n",
    "                if answer is not None :\n",
    "                    if answer.lower() == \"yes\" :\n",
    "                        response = \"A\"\n",
    "                    elif answer.lower() == \"no\" :\n",
    "                        response = \"B\"\n",
    "                    else :\n",
    "                        response = answer.lower()\n",
    "                    out += f\"\\n\\nRelation: {response}\"\n",
    "                    if response in [\"A\", \"B\"] :\n",
    "                        K.append(out)\n",
    "                    #print(out)\n",
    "                    #print(\"-\"*100)\n",
    "            else :\n",
    "                pass\n",
    "                #print(f\"INPUT\\n{prompt.strip()}\\n\\nOUTPUT\\n{completion.strip()}\")\n",
    "            #print(\"-\"*200)"
   ]
  },
  {
   "cell_type": "code",
   "execution_count": null,
   "metadata": {},
   "outputs": [],
   "source": [
    "for i, k in enumerate(K):\n",
    "    if i >= 100 :\n",
    "        break\n",
    "    else :\n",
    "        print(k)\n",
    "        print(\"-\"*100)"
   ]
  },
  {
   "cell_type": "code",
   "execution_count": null,
   "metadata": {},
   "outputs": [],
   "source": [
    "import jellyfish\n",
    "prompts = []\n",
    "W6 = []\n",
    "threshold=0.95\n",
    "print(len(K))\n",
    "for i, a in enumerate(K) :\n",
    "    duplicate = False\n",
    "    for c in prompts :\n",
    "        if c == a :\n",
    "        #if jellyfish.jaro_similarity(a, c) >= threshold :\n",
    "            duplicate = True\n",
    "            break\n",
    "    if duplicate :\n",
    "        continue\n",
    "    prompts.append(a)\n",
    "    W6.append(a)\n",
    "    #print(a)\n",
    "    #print(\"-\"*100)\n",
    "print(len(W6))"
   ]
  },
  {
   "cell_type": "code",
   "execution_count": null,
   "metadata": {},
   "outputs": [],
   "source": [
    "W6[0]"
   ]
  },
  {
   "cell_type": "code",
   "execution_count": null,
   "metadata": {},
   "outputs": [],
   "source": [
    "cot_nli = Dataset.from_dict(\n",
    "    {\n",
    "        \"prompt\" : [e for e in W6]\n",
    "    }\n",
    ")"
   ]
  },
  {
   "cell_type": "markdown",
   "metadata": {},
   "source": [
    "### creak"
   ]
  },
  {
   "cell_type": "code",
   "execution_count": null,
   "metadata": {},
   "outputs": [],
   "source": [
    "start_blacklist = [\n",
    "    \"Consider the question. Is the following a factual statement?\",\n",
    "    \"Question. Yes / no, is the following a verifiable fact?\",\n",
    "    \"Q: Claim:\", \"Consider the question.\",\"The question: Claim:\",\n",
    "    \"Q: Yes / no, is the following a verifiable fact?\", \"\"\n",
    "]\n",
    "end_blacklist = [\n",
    "\n",
    "]\n",
    "start_blacklist_completion = [\n",
    "\n",
    "]\n",
    "K = []\n",
    "for i, example in enumerate(ds) :\n",
    "    if i >= 20000 :\n",
    "        break\n",
    "    if example[\"task_name\"] == \"cot_creak_ii\" : # yes/no could require to reverse question and answer\n",
    "        if \"zs\" in example[\"template_type\"] :\n",
    "            prompt = example['inputs']\n",
    "            completion = example['targets']\n",
    "            for c in start_blacklist :\n",
    "                if prompt.strip().startswith(c) :\n",
    "                    prompt = prompt.strip()[len(c):]\n",
    "                    break\n",
    "            for c in end_blacklist :\n",
    "                if prompt.strip().endswith(c):\n",
    "                    prompt = prompt.strip()[:-len(c)]\n",
    "                    break\n",
    "            for c in start_blacklist_completion :\n",
    "                if completion.strip().startswith(c) :\n",
    "                    completion = completion.strip()[len(c):]\n",
    "                    break\n",
    "            i1 = prompt.find('\"')\n",
    "            if i1 == -1 :\n",
    "                continue\n",
    "            i2 = prompt[i1+1:].find('\"')\n",
    "            prompt = prompt[i1+1:i1+1+i2].strip()\n",
    "            #K.append((prompt.strip(), completion.strip()))\n",
    "            print(f\"INPUT\\n{prompt.strip()}\\n\\nOUTPUT\\n{completion.strip()}\")\n",
    "            print(\"-\"*200)"
   ]
  },
  {
   "cell_type": "markdown",
   "metadata": {},
   "source": [
    "## OpenAssistant"
   ]
  },
  {
   "cell_type": "code",
   "execution_count": null,
   "metadata": {},
   "outputs": [],
   "source": [
    "oasst1 = load_dataset(\"OpenAssistant/oasst1\")"
   ]
  },
  {
   "cell_type": "code",
   "execution_count": null,
   "metadata": {},
   "outputs": [],
   "source": [
    "i = 0\n",
    "len_ = len(oasst1[\"train\"])\n",
    "K = []\n",
    "while i < len_ :\n",
    "    example = oasst1[\"train\"][i]\n",
    "    tree_id = example[\"message_tree_id\"]\n",
    "    role = example[\"role\"]\n",
    "    j = i+1\n",
    "    conversation = []\n",
    "    dico = {}\n",
    "    dico[role] = example[\"text\"]\n",
    "    while j < len_ :\n",
    "        next = oasst1[\"train\"][j]\n",
    "        if next[\"message_tree_id\"] != tree_id :\n",
    "            break\n",
    "        second_role = next[\"role\"]\n",
    "        dico[second_role] = next[\"text\"]\n",
    "        if len(dico) == 2 :\n",
    "            conversation.append(dico)\n",
    "            dico = {}\n",
    "        j += 1\n",
    "    i = j\n",
    "    K.append(conversation)"
   ]
  },
  {
   "cell_type": "code",
   "execution_count": null,
   "metadata": {},
   "outputs": [],
   "source": [
    "len(K)"
   ]
  },
  {
   "cell_type": "code",
   "execution_count": null,
   "metadata": {},
   "outputs": [],
   "source": [
    "K_clean = []\n",
    "for i, conv in enumerate(K) :\n",
    "    prompt = conv[0]['prompter']\n",
    "    completion = conv[0]['assistant']\n",
    "    if \"as a language model\" in completion.lower() :\n",
    "        continue\n",
    "    if \"sorry\" in completion.lower() :\n",
    "        continue\n",
    "    print(f\"Question: {prompt}\\nAnswer: {completion}\")\n",
    "    print(\"-\"*200)\n",
    "    K_clean.append((prompt, completion))"
   ]
  },
  {
   "cell_type": "code",
   "execution_count": null,
   "metadata": {},
   "outputs": [],
   "source": [
    "for (a, b) in K_clean :\n",
    "    if 'black' in a :\n",
    "        out = f\"Q: {a}\\nA: {b}\"\n",
    "        print(out)\n",
    "        print(\"-\"*100)"
   ]
  },
  {
   "cell_type": "code",
   "execution_count": null,
   "metadata": {},
   "outputs": [],
   "source": [
    "!pip install fasttext"
   ]
  },
  {
   "cell_type": "code",
   "execution_count": null,
   "metadata": {},
   "outputs": [],
   "source": [
    "import fasttext\n",
    "from huggingface_hub import hf_hub_download\n",
    "\n",
    "model_path = hf_hub_download(repo_id=\"facebook/fasttext-language-identification\", filename=\"model.bin\")\n",
    "model = fasttext.load_model(model_path)\n",
    "model.predict(\"Hello, world!\")\n",
    "\n",
    "model.predict(\"Hello, world!\", k=5)\n"
   ]
  },
  {
   "cell_type": "code",
   "execution_count": null,
   "metadata": {},
   "outputs": [],
   "source": [
    "count = 0\n",
    "W = []\n",
    "for prompt, completion in K_clean :\n",
    "    a, b = model.predict(prompt.strip().split(\"\\n\")[0])\n",
    "    if a[0] == \"__label__eng_Latn\" and b[0] >= 0.8 :\n",
    "        out = f\"Question: {prompt}\\nAnswer: {completion}\"\n",
    "        W.append(out)\n",
    "        print(out)\n",
    "        print(\"-\"*200)\n",
    "        count += 1\n",
    "print(count)"
   ]
  },
  {
   "cell_type": "code",
   "execution_count": null,
   "metadata": {},
   "outputs": [],
   "source": [
    "oasst_dataset = Dataset.from_dict(\n",
    "    {\n",
    "        \"prompt\" : [e for e in W]\n",
    "    }\n",
    ")\n",
    "oasst_dataset.save_to_disk(\"oasst_dataset\")"
   ]
  },
  {
   "cell_type": "markdown",
   "metadata": {},
   "source": [
    "## Dolly"
   ]
  },
  {
   "cell_type": "code",
   "execution_count": null,
   "metadata": {},
   "outputs": [],
   "source": [
    "from datasets import load_dataset\n",
    "dolly = load_dataset(\"databricks/databricks-dolly-15k\", split=\"train\")"
   ]
  },
  {
   "cell_type": "code",
   "execution_count": null,
   "metadata": {},
   "outputs": [],
   "source": [
    "with_context = 0\n",
    "kept = 0\n",
    "W = []\n",
    "for i, example in enumerate(dolly) :\n",
    "    if len(example[\"context\"].strip()) != 0 :\n",
    "        with_context += 1\n",
    "        continue\n",
    "    if i >= 100000 :\n",
    "        break\n",
    "    prompt = example[\"instruction\"]\n",
    "    completion = example[\"response\"]\n",
    "    if min(len(prompt), len(completion)) < 100 :\n",
    "        continue\n",
    "    out = f\"Question: {prompt.strip()}\\nAnswer: {completion.strip()}\"\n",
    "    W.append(out)\n",
    "    print(out)\n",
    "    print(\"-\"*200)\n",
    "    kept += 1"
   ]
  },
  {
   "cell_type": "code",
   "execution_count": null,
   "metadata": {},
   "outputs": [],
   "source": [
    "for w in W :\n",
    "    print(w)\n",
    "    print(\"-\"*200)"
   ]
  },
  {
   "cell_type": "code",
   "execution_count": null,
   "metadata": {},
   "outputs": [],
   "source": [
    "kept"
   ]
  },
  {
   "cell_type": "code",
   "execution_count": null,
   "metadata": {},
   "outputs": [],
   "source": [
    "dolly_dataset = Dataset.from_dict(\n",
    "    {\n",
    "        \"prompt\" : [e for e in W]\n",
    "    }\n",
    ")\n",
    "dolly_dataset.save_to_disk(\"dolly_dataset\")"
   ]
  },
  {
   "cell_type": "markdown",
   "metadata": {},
   "source": [
    "## LIMA"
   ]
  },
  {
   "cell_type": "code",
   "execution_count": null,
   "metadata": {},
   "outputs": [],
   "source": [
    "from datasets import load_dataset\n",
    "lima = load_dataset(\"GAIR/lima\")"
   ]
  },
  {
   "cell_type": "code",
   "execution_count": null,
   "metadata": {},
   "outputs": [],
   "source": [
    "lima"
   ]
  },
  {
   "cell_type": "code",
   "execution_count": null,
   "metadata": {},
   "outputs": [],
   "source": [
    "P = []\n",
    "for example in lima[\"train\"]:\n",
    "    conversations = example[\"conversations\"]\n",
    "    for i in range(0, len(conversations), 2):\n",
    "        if i >= 2 :\n",
    "            break\n",
    "        try :\n",
    "            prompt = conversations[i]\n",
    "            completion = conversations[i+1]\n",
    "            P.append((prompt, completion))\n",
    "        except :\n",
    "            pass"
   ]
  },
  {
   "cell_type": "code",
   "execution_count": null,
   "metadata": {},
   "outputs": [],
   "source": [
    "W = [f\"Question: {a.strip()}\\nAnswer: {b.strip()}\" for (a, b) in P]"
   ]
  },
  {
   "cell_type": "code",
   "execution_count": null,
   "metadata": {},
   "outputs": [],
   "source": [
    "for w in W :\n",
    "    print(w)\n",
    "    print(\"-\"*200)"
   ]
  },
  {
   "cell_type": "code",
   "execution_count": null,
   "metadata": {},
   "outputs": [],
   "source": [
    "lima_dataset = Dataset.from_dict(\n",
    "    {\n",
    "        \"prompt\" : [e for e in W]\n",
    "    }\n",
    ")\n",
    "lima_dataset.save_to_disk(\"lima_dataset\")"
   ]
  },
  {
   "cell_type": "markdown",
   "metadata": {},
   "source": [
    "# Merge"
   ]
  },
  {
   "cell_type": "code",
   "execution_count": null,
   "metadata": {},
   "outputs": [],
   "source": [
    "from datasets import concatenate_datasets, load_from_disk\n",
    "ds = concatenate_datasets(\n",
    "    [\n",
    "        load_from_disk(e) for e in [\n",
    "            \"cot_dataset\",\n",
    "            \"dolly_dataset\",\n",
    "            \"lima_dataset\",\n",
    "            \"oasst_dataset\",\n",
    "            \"qcm_dataset\",\n",
    "            \"summary_dataset\"\n",
    "        ]\n",
    "    ]\n",
    ")"
   ]
  },
  {
   "cell_type": "code",
   "execution_count": null,
   "metadata": {},
   "outputs": [],
   "source": [
    "dataset = ds.train_test_split(test_size=0.05)"
   ]
  },
  {
   "cell_type": "code",
   "execution_count": null,
   "metadata": {},
   "outputs": [],
   "source": [
    "dataset.push_to_hub(\"ArmelRandy/precious\")"
   ]
  },
  {
   "cell_type": "code",
   "execution_count": null,
   "metadata": {},
   "outputs": [],
   "source": [
    "for i, e in enumerate(ds):\n",
    "    if i >= 100 :\n",
    "        break\n",
    "    print(e[\"prompt\"])\n",
    "    print(\"-\"*100)"
   ]
  },
  {
   "cell_type": "code",
   "execution_count": null,
   "metadata": {},
   "outputs": [],
   "source": [
    "from datasets import load_dataset\n",
    "from transformers import AutoTokenizer\n",
    "ds = load_dataset(\"ArmelRandy/precious\")\n",
    "tokenizer = AutoTokenizer.from_pretrained(\"mistralai/Mistral-7B-v0.1\")"
   ]
  },
  {
   "cell_type": "code",
   "execution_count": null,
   "metadata": {},
   "outputs": [],
   "source": [
    "n_tokens = 0\n",
    "for example in ds[\"train\"] :\n",
    "    n_tokens += len(tokenizer(example[\"prompt\"])[\"input_ids\"])"
   ]
  },
  {
   "cell_type": "code",
   "execution_count": null,
   "metadata": {},
   "outputs": [],
   "source": [
    "print(n_tokens/2048/32)"
   ]
  },
  {
   "cell_type": "markdown",
   "metadata": {},
   "source": [
    "## Merging"
   ]
  },
  {
   "cell_type": "code",
   "execution_count": null,
   "metadata": {},
   "outputs": [],
   "source": [
    "cot_gsm8k.save_to_disk(\"cot_gsm8k\") # good qcm\n",
    "cot_aqua.save_to_disk(\"cot_aqua\") # good qcm\n",
    "cot_ecqa.save_to_disk(\"cot_ecqa\") # good qcm\n",
    "cot_qed.save_to_disk(\"cot_qed\")\n",
    "cot_strategyqa.save_to_disk(\"cot_strategyqa\")\n",
    "cot_nli.save_to_disk(\"cot_nli\") # good"
   ]
  },
  {
   "cell_type": "code",
   "execution_count": null,
   "metadata": {},
   "outputs": [],
   "source": [
    "import numpy as np\n",
    "rng = np.random.default_rng()"
   ]
  },
  {
   "cell_type": "code",
   "execution_count": null,
   "metadata": {},
   "outputs": [],
   "source": [
    "L = [\n",
    "    cot_gsm8k,\n",
    "    cot_aqua,\n",
    "    cot_ecqa,\n",
    "    cot_qed,\n",
    "    cot_strategyqa,\n",
    "    cot_nli\n",
    "]\n",
    "for e in L :\n",
    "    print(len(e))"
   ]
  },
  {
   "cell_type": "code",
   "execution_count": null,
   "metadata": {},
   "outputs": [],
   "source": [
    "summary_dataset = load_dataset(\"ArmelRandy/cnndm\")"
   ]
  },
  {
   "cell_type": "code",
   "execution_count": null,
   "metadata": {},
   "outputs": [],
   "source": [
    "summary_dataset"
   ]
  },
  {
   "cell_type": "code",
   "execution_count": null,
   "metadata": {},
   "outputs": [],
   "source": [
    "summary = summary_dataset[\"train\"].map(\n",
    "    lambda x : \n",
    "    {\n",
    "        **x, \n",
    "        **{\n",
    "            \"prompt\": f\"{x['document']}\\n\\nSummarize the above article in 3 sentences.\\n{x['summary']}\"\n",
    "        }\n",
    "    }\n",
    ").remove_columns(column_names=summary_dataset[\"train\"].column_names)"
   ]
  },
  {
   "cell_type": "code",
   "execution_count": null,
   "metadata": {},
   "outputs": [],
   "source": [
    "summary = summary.select(rng.choice(len(summary), size=5000, replace=False))"
   ]
  },
  {
   "cell_type": "code",
   "execution_count": null,
   "metadata": {},
   "outputs": [],
   "source": [
    "nli = cot_nli.select(rng.choice(len(cot_nli), size=5000, replace=False))"
   ]
  },
  {
   "cell_type": "code",
   "execution_count": null,
   "metadata": {},
   "outputs": [],
   "source": [
    "cot_strategyqa"
   ]
  },
  {
   "cell_type": "code",
   "execution_count": null,
   "metadata": {},
   "outputs": [],
   "source": [
    "qed = cot_qed.select(rng.choice(len(cot_qed), size=500, replace=False))\n",
    "#strategy = cot_strategyqa.select(rng.choice(len(cot_strategyqa), size=2000, replace=False))\n",
    "strategy = cot_strategyqa        "
   ]
  },
  {
   "cell_type": "code",
   "execution_count": null,
   "metadata": {},
   "outputs": [],
   "source": [
    "print(summary, nli, qed, strategy)"
   ]
  },
  {
   "cell_type": "code",
   "execution_count": null,
   "metadata": {},
   "outputs": [],
   "source": [
    "from datasets import load_from_disk\n",
    "lima = load_from_disk(\"lima_dataset\")\n",
    "oasst1 = load_from_disk(\"oasst_dataset\")\n",
    "dolly = load_from_disk(\"dolly_dataset\")\n",
    "qcm = load_from_disk(\"flan2021_qcm_dataset\")"
   ]
  },
  {
   "cell_type": "code",
   "execution_count": null,
   "metadata": {},
   "outputs": [],
   "source": [
    "precious = concatenate_datasets(\n",
    "    [\n",
    "        cot_gsm8k,\n",
    "        cot_aqua,\n",
    "        cot_ecqa,\n",
    "        strategy,\n",
    "        qed,\n",
    "        nli,\n",
    "        summary,\n",
    "        lima,\n",
    "        oasst1,\n",
    "        dolly,\n",
    "        qcm\n",
    "    ]\n",
    ")"
   ]
  },
  {
   "cell_type": "code",
   "execution_count": null,
   "metadata": {},
   "outputs": [],
   "source": [
    "precious = precious.train_test_split(test_size=0.05)"
   ]
  },
  {
   "cell_type": "code",
   "execution_count": null,
   "metadata": {},
   "outputs": [],
   "source": [
    "precious"
   ]
  },
  {
   "cell_type": "code",
   "execution_count": null,
   "metadata": {},
   "outputs": [],
   "source": [
    "precious.push_to_hub(\"ArmelRandy/more_precious\", private=True)"
   ]
  },
  {
   "cell_type": "code",
   "execution_count": null,
   "metadata": {},
   "outputs": [],
   "source": []
  }
 ],
 "metadata": {
  "kernelspec": {
   "display_name": "new_env",
   "language": "python",
   "name": "python3"
  },
  "language_info": {
   "codemirror_mode": {
    "name": "ipython",
    "version": 3
   },
   "file_extension": ".py",
   "mimetype": "text/x-python",
   "name": "python",
   "nbconvert_exporter": "python",
   "pygments_lexer": "ipython3",
   "version": "3.11.4"
  },
  "orig_nbformat": 4
 },
 "nbformat": 4,
 "nbformat_minor": 2
}
